{
  "nbformat": 4,
  "nbformat_minor": 0,
  "metadata": {
    "accelerator": "GPU",
    "colab": {
      "name": "LSTM and GRU.ipynb",
      "provenance": [],
      "authorship_tag": "ABX9TyPIgnQgQjYlZjpzo0t8k+tA",
      "include_colab_link": true
    },
    "kernelspec": {
      "display_name": "Python 3",
      "name": "python3"
    },
    "language_info": {
      "name": "python"
    }
  },
  "cells": [
    {
      "cell_type": "markdown",
      "metadata": {
        "id": "view-in-github",
        "colab_type": "text"
      },
      "source": [
        "<a href=\"https://colab.research.google.com/github/jihyoung-lee/AI-study/blob/main/LSTM_and_GRU.ipynb\" target=\"_parent\"><img src=\"https://colab.research.google.com/assets/colab-badge.svg\" alt=\"Open In Colab\"/></a>"
      ]
    },
    {
      "cell_type": "code",
      "metadata": {
        "colab": {
          "base_uri": "https://localhost:8080/"
        },
        "id": "m-OlnSAXleUY",
        "outputId": "80f9dbe6-399c-4fa4-b66a-d26a63a2a1bf"
      },
      "source": [
        "\n",
        "from tensorflow.keras.datasets import imdb\n",
        "from sklearn.model_selection import train_test_split\n",
        "\n",
        "(train_input, train_target), (test_input, test_target) = imdb.load_data(\n",
        "    num_words=500)\n",
        "\n",
        "train_input, val_input, train_target, val_target = train_test_split(\n",
        "    train_input, train_target, test_size=0.2, random_state=42)"
      ],
      "execution_count": null,
      "outputs": [
        {
          "output_type": "stream",
          "text": [
            "Downloading data from https://storage.googleapis.com/tensorflow/tf-keras-datasets/imdb.npz\n",
            "17465344/17464789 [==============================] - 1s 0us/step\n"
          ],
          "name": "stdout"
        },
        {
          "output_type": "stream",
          "text": [
            "<string>:6: VisibleDeprecationWarning: Creating an ndarray from ragged nested sequences (which is a list-or-tuple of lists-or-tuples-or ndarrays with different lengths or shapes) is deprecated. If you meant to do this, you must specify 'dtype=object' when creating the ndarray\n",
            "/usr/local/lib/python3.7/dist-packages/tensorflow/python/keras/datasets/imdb.py:155: VisibleDeprecationWarning: Creating an ndarray from ragged nested sequences (which is a list-or-tuple of lists-or-tuples-or ndarrays with different lengths or shapes) is deprecated. If you meant to do this, you must specify 'dtype=object' when creating the ndarray\n",
            "  x_train, y_train = np.array(xs[:idx]), np.array(labels[:idx])\n",
            "/usr/local/lib/python3.7/dist-packages/tensorflow/python/keras/datasets/imdb.py:156: VisibleDeprecationWarning: Creating an ndarray from ragged nested sequences (which is a list-or-tuple of lists-or-tuples-or ndarrays with different lengths or shapes) is deprecated. If you meant to do this, you must specify 'dtype=object' when creating the ndarray\n",
            "  x_test, y_test = np.array(xs[idx:]), np.array(labels[idx:])\n"
          ],
          "name": "stderr"
        }
      ]
    },
    {
      "cell_type": "code",
      "metadata": {
        "id": "Jc9TsQe_1alS"
      },
      "source": [
        "\n",
        "from tensorflow.keras.preprocessing.sequence import pad_sequences\n",
        "\n",
        "# pad_sequence() 함수로 각 샘플의 길이를 100에 맞추고 부족한 부분은 패딩 추가\n",
        "\n",
        "train_seq = pad_sequences(train_input, maxlen=100)\n",
        "val_seq = pad_sequences(val_input, maxlen=100)"
      ],
      "execution_count": null,
      "outputs": []
    },
    {
      "cell_type": "code",
      "metadata": {
        "colab": {
          "base_uri": "https://localhost:8080/"
        },
        "id": "k1t1nbmdpsir",
        "outputId": "4ead92f6-e3b7-4e7e-bc61-aea1b24bbce5"
      },
      "source": [
        "\n",
        "from tensorflow import keras\n",
        "\n",
        "model = keras.Sequential()\n",
        "\n",
        "model.add(keras.layers.Embedding(500, 16, input_length=100))\n",
        "model.add(keras.layers.LSTM(8))\n",
        "model.add(keras.layers.Dense(1, activation='sigmoid'))\n",
        "\n",
        "model.summary()"
      ],
      "execution_count": null,
      "outputs": [
        {
          "output_type": "stream",
          "text": [
            "Model: \"sequential\"\n",
            "_________________________________________________________________\n",
            "Layer (type)                 Output Shape              Param #   \n",
            "=================================================================\n",
            "embedding (Embedding)        (None, 100, 16)           8000      \n",
            "_________________________________________________________________\n",
            "lstm (LSTM)                  (None, 8)                 800       \n",
            "_________________________________________________________________\n",
            "dense (Dense)                (None, 1)                 9         \n",
            "=================================================================\n",
            "Total params: 8,809\n",
            "Trainable params: 8,809\n",
            "Non-trainable params: 0\n",
            "_________________________________________________________________\n"
          ],
          "name": "stdout"
        }
      ]
    },
    {
      "cell_type": "code",
      "metadata": {
        "colab": {
          "background_save": true,
          "base_uri": "https://localhost:8080/"
        },
        "id": "ZoiGCVa24yTk",
        "outputId": "f60559a6-000e-48c0-97d9-9c1b53cd1cb7"
      },
      "source": [
        "rmsprop = keras.optimizers.RMSprop(learning_rate=1e-4)\n",
        "model.compile(optimizer=rmsprop, loss='binary_crossentropy', \n",
        "              metrics=['accuracy'])\n",
        "\n",
        "checkpoint_cb = keras.callbacks.ModelCheckpoint('best-lstm-model.h5', \n",
        "                                                save_best_only=True)\n",
        "early_stopping_cb = keras.callbacks.EarlyStopping(patience=3,\n",
        "                                                  restore_best_weights=True)\n",
        "\n",
        "history = model.fit(train_seq, train_target, epochs=100, batch_size=64,\n",
        "                    validation_data=(val_seq, val_target),\n",
        "                    callbacks=[checkpoint_cb, early_stopping_cb])"
      ],
      "execution_count": null,
      "outputs": [
        {
          "output_type": "stream",
          "text": [
            "Epoch 1/100\n",
            "313/313 [==============================] - 14s 38ms/step - loss: 0.6924 - accuracy: 0.5411 - val_loss: 0.6913 - val_accuracy: 0.5868\n",
            "Epoch 2/100\n",
            "313/313 [==============================] - 11s 36ms/step - loss: 0.6888 - accuracy: 0.6117 - val_loss: 0.6856 - val_accuracy: 0.6284\n",
            "Epoch 3/100\n",
            "313/313 [==============================] - 11s 37ms/step - loss: 0.6712 - accuracy: 0.6336 - val_loss: 0.6483 - val_accuracy: 0.6810\n",
            "Epoch 4/100\n",
            "313/313 [==============================] - 11s 36ms/step - loss: 0.6195 - accuracy: 0.7163 - val_loss: 0.6082 - val_accuracy: 0.7270\n",
            "Epoch 5/100\n",
            "313/313 [==============================] - 11s 36ms/step - loss: 0.5916 - accuracy: 0.7398 - val_loss: 0.5887 - val_accuracy: 0.7356\n",
            "Epoch 6/100\n",
            "313/313 [==============================] - 11s 37ms/step - loss: 0.5730 - accuracy: 0.7526 - val_loss: 0.5720 - val_accuracy: 0.7472\n",
            "Epoch 7/100\n",
            "313/313 [==============================] - 11s 36ms/step - loss: 0.5565 - accuracy: 0.7588 - val_loss: 0.5565 - val_accuracy: 0.7576\n",
            "Epoch 8/100\n",
            "313/313 [==============================] - 11s 36ms/step - loss: 0.5405 - accuracy: 0.7686 - val_loss: 0.5457 - val_accuracy: 0.7616\n",
            "Epoch 9/100\n",
            "313/313 [==============================] - 11s 36ms/step - loss: 0.5249 - accuracy: 0.7751 - val_loss: 0.5267 - val_accuracy: 0.7694\n",
            "Epoch 10/100\n",
            "313/313 [==============================] - 11s 36ms/step - loss: 0.5097 - accuracy: 0.7808 - val_loss: 0.5139 - val_accuracy: 0.7712\n",
            "Epoch 11/100\n",
            "313/313 [==============================] - 11s 36ms/step - loss: 0.4947 - accuracy: 0.7867 - val_loss: 0.4999 - val_accuracy: 0.7726\n",
            "Epoch 12/100\n",
            "313/313 [==============================] - 11s 36ms/step - loss: 0.4824 - accuracy: 0.7889 - val_loss: 0.4891 - val_accuracy: 0.7776\n",
            "Epoch 13/100\n",
            "313/313 [==============================] - 11s 36ms/step - loss: 0.4731 - accuracy: 0.7929 - val_loss: 0.4835 - val_accuracy: 0.7820\n",
            "Epoch 14/100\n",
            "313/313 [==============================] - 11s 36ms/step - loss: 0.4655 - accuracy: 0.7952 - val_loss: 0.4754 - val_accuracy: 0.7832\n",
            "Epoch 15/100\n",
            "313/313 [==============================] - 11s 36ms/step - loss: 0.4596 - accuracy: 0.7975 - val_loss: 0.4717 - val_accuracy: 0.7852\n",
            "Epoch 16/100\n",
            "313/313 [==============================] - 11s 36ms/step - loss: 0.4545 - accuracy: 0.8002 - val_loss: 0.4675 - val_accuracy: 0.7852\n",
            "Epoch 17/100\n",
            "313/313 [==============================] - 11s 36ms/step - loss: 0.4503 - accuracy: 0.8015 - val_loss: 0.4664 - val_accuracy: 0.7862\n",
            "Epoch 18/100\n",
            "313/313 [==============================] - 11s 36ms/step - loss: 0.4460 - accuracy: 0.8036 - val_loss: 0.4702 - val_accuracy: 0.7844\n",
            "Epoch 19/100\n",
            "313/313 [==============================] - 11s 36ms/step - loss: 0.4425 - accuracy: 0.8041 - val_loss: 0.4592 - val_accuracy: 0.7886\n",
            "Epoch 20/100\n",
            "313/313 [==============================] - 11s 36ms/step - loss: 0.4392 - accuracy: 0.8064 - val_loss: 0.4583 - val_accuracy: 0.7892\n",
            "Epoch 21/100\n",
            "313/313 [==============================] - 11s 36ms/step - loss: 0.4366 - accuracy: 0.8074 - val_loss: 0.4554 - val_accuracy: 0.7906\n",
            "Epoch 22/100\n",
            "313/313 [==============================] - 11s 36ms/step - loss: 0.4341 - accuracy: 0.8087 - val_loss: 0.4545 - val_accuracy: 0.7886\n",
            "Epoch 23/100\n",
            "313/313 [==============================] - 11s 36ms/step - loss: 0.4321 - accuracy: 0.8078 - val_loss: 0.4515 - val_accuracy: 0.7918\n",
            "Epoch 24/100\n",
            "313/313 [==============================] - 12s 37ms/step - loss: 0.4298 - accuracy: 0.8096 - val_loss: 0.4530 - val_accuracy: 0.7870\n",
            "Epoch 25/100\n",
            "313/313 [==============================] - 11s 37ms/step - loss: 0.4285 - accuracy: 0.8104 - val_loss: 0.4498 - val_accuracy: 0.7936\n",
            "Epoch 26/100\n",
            "313/313 [==============================] - 11s 36ms/step - loss: 0.4264 - accuracy: 0.8105 - val_loss: 0.4561 - val_accuracy: 0.7910\n",
            "Epoch 27/100\n",
            "313/313 [==============================] - 11s 36ms/step - loss: 0.4248 - accuracy: 0.8102 - val_loss: 0.4500 - val_accuracy: 0.7934\n",
            "Epoch 28/100\n",
            "313/313 [==============================] - 11s 36ms/step - loss: 0.4237 - accuracy: 0.8097 - val_loss: 0.4518 - val_accuracy: 0.7924\n"
          ],
          "name": "stdout"
        }
      ]
    },
    {
      "cell_type": "code",
      "metadata": {
        "colab": {
          "base_uri": "https://localhost:8080/",
          "height": 279
        },
        "id": "SM7A5h1-7RCR",
        "outputId": "cc553b9e-da6c-4c91-d547-070ec26ba81f"
      },
      "source": [
        "import matplotlib.pyplot as plt\n",
        "\n",
        "plt.plot(history.history['loss'])\n",
        "plt.plot(history.history['val_loss'])\n",
        "plt.xlabel('epoch')\n",
        "plt.ylabel('loss')\n",
        "plt.legend(['train', 'val'])\n",
        "plt.show()"
      ],
      "execution_count": 6,
      "outputs": [
        {
          "output_type": "display_data",
          "data": {
            "image/png": "[encoded data removed]",
            "text/plain": [
              "<Figure size 432x288 with 1 Axes>"
            ]
          },
          "metadata": {
            "tags": [],
            "needs_background": "light"
          }
        }
      ]
    },
    {
      "cell_type": "code",
      "metadata": {
        "id": "Va2w_rSF8Jqa"
      },
      "source": [
        "model2 = keras.Sequential()\n",
        "\n",
        "model2.add(keras.layers.Embedding(500, 16, input_length=100))\n",
        "model2.add(keras.layers.LSTM(8, dropout=0.3))\n",
        "model2.add(keras.layers.Dense(1, activation='sigmoid'))"
      ],
      "execution_count": 7,
      "outputs": []
    },
    {
      "cell_type": "code",
      "metadata": {
        "colab": {
          "base_uri": "https://localhost:8080/"
        },
        "id": "bHle2XCe8aXS",
        "outputId": "b89b0c74-26ed-44ec-af83-630fe6ffdac1"
      },
      "source": [
        "\n",
        "rmsprop = keras.optimizers.RMSprop(learning_rate=1e-4)\n",
        "model2.compile(optimizer=rmsprop, loss='binary_crossentropy', \n",
        "               metrics=['accuracy'])\n",
        "\n",
        "checkpoint_cb = keras.callbacks.ModelCheckpoint('best-dropout-model.h5', \n",
        "                                                save_best_only=True)\n",
        "early_stopping_cb = keras.callbacks.EarlyStopping(patience=3,\n",
        "                                                  restore_best_weights=True)\n",
        "\n",
        "history = model2.fit(train_seq, train_target, epochs=100, batch_size=64,\n",
        "                     validation_data=(val_seq, val_target),\n",
        "                     callbacks=[checkpoint_cb, early_stopping_cb])"
      ],
      "execution_count": 8,
      "outputs": [
        {
          "output_type": "stream",
          "text": [
            "Epoch 1/100\n",
            "313/313 [==============================] - 5s 9ms/step - loss: 0.6922 - accuracy: 0.5392 - val_loss: 0.6912 - val_accuracy: 0.5926\n",
            "Epoch 2/100\n",
            "313/313 [==============================] - 2s 8ms/step - loss: 0.6895 - accuracy: 0.5951 - val_loss: 0.6874 - val_accuracy: 0.6342\n",
            "Epoch 3/100\n",
            "313/313 [==============================] - 2s 8ms/step - loss: 0.6836 - accuracy: 0.6328 - val_loss: 0.6784 - val_accuracy: 0.6590\n",
            "Epoch 4/100\n",
            "313/313 [==============================] - 2s 8ms/step - loss: 0.6624 - accuracy: 0.6755 - val_loss: 0.6296 - val_accuracy: 0.7004\n",
            "Epoch 5/100\n",
            "313/313 [==============================] - 2s 8ms/step - loss: 0.5904 - accuracy: 0.7153 - val_loss: 0.5664 - val_accuracy: 0.7284\n",
            "Epoch 6/100\n",
            "313/313 [==============================] - 2s 8ms/step - loss: 0.5571 - accuracy: 0.7336 - val_loss: 0.5440 - val_accuracy: 0.7402\n",
            "Epoch 7/100\n",
            "313/313 [==============================] - 2s 8ms/step - loss: 0.5353 - accuracy: 0.7470 - val_loss: 0.5251 - val_accuracy: 0.7574\n",
            "Epoch 8/100\n",
            "313/313 [==============================] - 2s 8ms/step - loss: 0.5179 - accuracy: 0.7584 - val_loss: 0.5103 - val_accuracy: 0.7640\n",
            "Epoch 9/100\n",
            "313/313 [==============================] - 2s 8ms/step - loss: 0.5036 - accuracy: 0.7696 - val_loss: 0.4969 - val_accuracy: 0.7766\n",
            "Epoch 10/100\n",
            "313/313 [==============================] - 2s 7ms/step - loss: 0.4915 - accuracy: 0.7748 - val_loss: 0.4862 - val_accuracy: 0.7812\n",
            "Epoch 11/100\n",
            "313/313 [==============================] - 2s 8ms/step - loss: 0.4797 - accuracy: 0.7814 - val_loss: 0.4767 - val_accuracy: 0.7838\n",
            "Epoch 12/100\n",
            "313/313 [==============================] - 2s 8ms/step - loss: 0.4702 - accuracy: 0.7879 - val_loss: 0.4688 - val_accuracy: 0.7860\n",
            "Epoch 13/100\n",
            "313/313 [==============================] - 2s 8ms/step - loss: 0.4603 - accuracy: 0.7912 - val_loss: 0.4637 - val_accuracy: 0.7900\n",
            "Epoch 14/100\n",
            "313/313 [==============================] - 2s 8ms/step - loss: 0.4544 - accuracy: 0.7953 - val_loss: 0.4560 - val_accuracy: 0.7948\n",
            "Epoch 15/100\n",
            "313/313 [==============================] - 2s 8ms/step - loss: 0.4483 - accuracy: 0.7968 - val_loss: 0.4510 - val_accuracy: 0.7942\n",
            "Epoch 16/100\n",
            "313/313 [==============================] - 2s 8ms/step - loss: 0.4421 - accuracy: 0.8015 - val_loss: 0.4503 - val_accuracy: 0.7910\n",
            "Epoch 17/100\n",
            "313/313 [==============================] - 2s 8ms/step - loss: 0.4385 - accuracy: 0.8001 - val_loss: 0.4449 - val_accuracy: 0.7960\n",
            "Epoch 18/100\n",
            "313/313 [==============================] - 2s 8ms/step - loss: 0.4345 - accuracy: 0.8026 - val_loss: 0.4413 - val_accuracy: 0.7944\n",
            "Epoch 19/100\n",
            "313/313 [==============================] - 2s 8ms/step - loss: 0.4320 - accuracy: 0.8035 - val_loss: 0.4390 - val_accuracy: 0.7982\n",
            "Epoch 20/100\n",
            "313/313 [==============================] - 2s 8ms/step - loss: 0.4304 - accuracy: 0.8042 - val_loss: 0.4380 - val_accuracy: 0.7984\n",
            "Epoch 21/100\n",
            "313/313 [==============================] - 2s 8ms/step - loss: 0.4277 - accuracy: 0.8047 - val_loss: 0.4375 - val_accuracy: 0.7950\n",
            "Epoch 22/100\n",
            "313/313 [==============================] - 2s 8ms/step - loss: 0.4285 - accuracy: 0.8038 - val_loss: 0.4352 - val_accuracy: 0.7990\n",
            "Epoch 23/100\n",
            "313/313 [==============================] - 2s 8ms/step - loss: 0.4243 - accuracy: 0.8074 - val_loss: 0.4382 - val_accuracy: 0.7938\n",
            "Epoch 24/100\n",
            "313/313 [==============================] - 2s 8ms/step - loss: 0.4233 - accuracy: 0.8070 - val_loss: 0.4334 - val_accuracy: 0.7984\n",
            "Epoch 25/100\n",
            "313/313 [==============================] - 2s 8ms/step - loss: 0.4226 - accuracy: 0.8088 - val_loss: 0.4327 - val_accuracy: 0.7986\n",
            "Epoch 26/100\n",
            "313/313 [==============================] - 2s 8ms/step - loss: 0.4208 - accuracy: 0.8079 - val_loss: 0.4326 - val_accuracy: 0.7990\n",
            "Epoch 27/100\n",
            "313/313 [==============================] - 2s 8ms/step - loss: 0.4213 - accuracy: 0.8081 - val_loss: 0.4335 - val_accuracy: 0.7984\n",
            "Epoch 28/100\n",
            "313/313 [==============================] - 2s 8ms/step - loss: 0.4197 - accuracy: 0.8077 - val_loss: 0.4349 - val_accuracy: 0.8022\n",
            "Epoch 29/100\n",
            "313/313 [==============================] - 2s 8ms/step - loss: 0.4181 - accuracy: 0.8109 - val_loss: 0.4307 - val_accuracy: 0.7986\n",
            "Epoch 30/100\n",
            "313/313 [==============================] - 2s 8ms/step - loss: 0.4165 - accuracy: 0.8092 - val_loss: 0.4304 - val_accuracy: 0.8034\n",
            "Epoch 31/100\n",
            "313/313 [==============================] - 2s 8ms/step - loss: 0.4167 - accuracy: 0.8101 - val_loss: 0.4317 - val_accuracy: 0.8044\n",
            "Epoch 32/100\n",
            "313/313 [==============================] - 2s 8ms/step - loss: 0.4146 - accuracy: 0.8112 - val_loss: 0.4291 - val_accuracy: 0.7988\n",
            "Epoch 33/100\n",
            "313/313 [==============================] - 2s 8ms/step - loss: 0.4150 - accuracy: 0.8091 - val_loss: 0.4298 - val_accuracy: 0.8012\n",
            "Epoch 34/100\n",
            "313/313 [==============================] - 2s 8ms/step - loss: 0.4157 - accuracy: 0.8092 - val_loss: 0.4300 - val_accuracy: 0.7980\n",
            "Epoch 35/100\n",
            "313/313 [==============================] - 2s 8ms/step - loss: 0.4143 - accuracy: 0.8115 - val_loss: 0.4283 - val_accuracy: 0.8050\n",
            "Epoch 36/100\n",
            "313/313 [==============================] - 2s 8ms/step - loss: 0.4112 - accuracy: 0.8130 - val_loss: 0.4302 - val_accuracy: 0.8044\n",
            "Epoch 37/100\n",
            "313/313 [==============================] - 2s 8ms/step - loss: 0.4121 - accuracy: 0.8129 - val_loss: 0.4281 - val_accuracy: 0.8016\n",
            "Epoch 38/100\n",
            "313/313 [==============================] - 2s 8ms/step - loss: 0.4123 - accuracy: 0.8113 - val_loss: 0.4287 - val_accuracy: 0.7990\n",
            "Epoch 39/100\n",
            "313/313 [==============================] - 2s 8ms/step - loss: 0.4103 - accuracy: 0.8112 - val_loss: 0.4273 - val_accuracy: 0.8056\n",
            "Epoch 40/100\n",
            "313/313 [==============================] - 2s 8ms/step - loss: 0.4097 - accuracy: 0.8122 - val_loss: 0.4265 - val_accuracy: 0.8034\n",
            "Epoch 41/100\n",
            "313/313 [==============================] - 2s 8ms/step - loss: 0.4091 - accuracy: 0.8130 - val_loss: 0.4264 - val_accuracy: 0.8040\n",
            "Epoch 42/100\n",
            "313/313 [==============================] - 2s 8ms/step - loss: 0.4103 - accuracy: 0.8117 - val_loss: 0.4280 - val_accuracy: 0.8000\n",
            "Epoch 43/100\n",
            "313/313 [==============================] - 2s 8ms/step - loss: 0.4072 - accuracy: 0.8130 - val_loss: 0.4299 - val_accuracy: 0.7986\n",
            "Epoch 44/100\n",
            "313/313 [==============================] - 2s 8ms/step - loss: 0.4081 - accuracy: 0.8131 - val_loss: 0.4285 - val_accuracy: 0.8042\n"
          ],
          "name": "stdout"
        }
      ]
    },
    {
      "cell_type": "code",
      "metadata": {
        "colab": {
          "base_uri": "https://localhost:8080/",
          "height": 279
        },
        "id": "LWOuZhyw9S8f",
        "outputId": "1245b6d8-6ab3-4da6-ad35-abf23fa13503"
      },
      "source": [
        "plt.plot(history.history['loss'])\n",
        "plt.plot(history.history['val_loss'])\n",
        "plt.xlabel('epoch')\n",
        "plt.ylabel('loss')\n",
        "plt.legend(['train', 'val'])\n",
        "plt.show()"
      ],
      "execution_count": 9,
      "outputs": [
        {
          "output_type": "display_data",
          "data": {
            "image/png": "[encoded data removed]",
            "text/plain": [
              "<Figure size 432x288 with 1 Axes>"
            ]
          },
          "metadata": {
            "tags": [],
            "needs_background": "light"
          }
        }
      ]
    },
    {
      "cell_type": "code",
      "metadata": {
        "colab": {
          "base_uri": "https://localhost:8080/"
        },
        "id": "c1EiQaM29w7R",
        "outputId": "1f520260-6d8d-4261-fdb0-87ddaf4ac23b"
      },
      "source": [
        "\n",
        "model3 = keras.Sequential()\n",
        "\n",
        "model3.add(keras.layers.Embedding(500, 16, input_length=100))\n",
        "model3.add(keras.layers.LSTM(8, dropout=0.3, return_sequences=True))\n",
        "model3.add(keras.layers.LSTM(8, dropout=0.3))\n",
        "model3.add(keras.layers.Dense(1, activation='sigmoid'))\n",
        "\n",
        "model3.summary()"
      ],
      "execution_count": 10,
      "outputs": [
        {
          "output_type": "stream",
          "text": [
            "Model: \"sequential_2\"\n",
            "_________________________________________________________________\n",
            "Layer (type)                 Output Shape              Param #   \n",
            "=================================================================\n",
            "embedding_2 (Embedding)      (None, 100, 16)           8000      \n",
            "_________________________________________________________________\n",
            "lstm_2 (LSTM)                (None, 100, 8)            800       \n",
            "_________________________________________________________________\n",
            "lstm_3 (LSTM)                (None, 8)                 544       \n",
            "_________________________________________________________________\n",
            "dense_2 (Dense)              (None, 1)                 9         \n",
            "=================================================================\n",
            "Total params: 9,353\n",
            "Trainable params: 9,353\n",
            "Non-trainable params: 0\n",
            "_________________________________________________________________\n"
          ],
          "name": "stdout"
        }
      ]
    },
    {
      "cell_type": "code",
      "metadata": {
        "colab": {
          "base_uri": "https://localhost:8080/"
        },
        "id": "yaHiwFGa-rS7",
        "outputId": "33bb22ba-c13b-4b53-ebdd-740ce8dbf464"
      },
      "source": [
        "rmsprop = keras.optimizers.RMSprop(learning_rate=1e-4)\n",
        "model3.compile(optimizer=rmsprop, loss='binary_crossentropy', \n",
        "               metrics=['accuracy'])\n",
        "\n",
        "checkpoint_cb = keras.callbacks.ModelCheckpoint('best-2rnn-model.h5', \n",
        "                                                save_best_only=True)\n",
        "early_stopping_cb = keras.callbacks.EarlyStopping(patience=3,\n",
        "                                                  restore_best_weights=True)\n",
        "\n",
        "history = model3.fit(train_seq, train_target, epochs=100, batch_size=64,\n",
        "                     validation_data=(val_seq, val_target),\n",
        "                     callbacks=[checkpoint_cb, early_stopping_cb])"
      ],
      "execution_count": 11,
      "outputs": [
        {
          "output_type": "stream",
          "text": [
            "Epoch 1/100\n",
            "313/313 [==============================] - 7s 13ms/step - loss: 0.6929 - accuracy: 0.5308 - val_loss: 0.6925 - val_accuracy: 0.5888\n",
            "Epoch 2/100\n",
            "313/313 [==============================] - 4s 11ms/step - loss: 0.6914 - accuracy: 0.5942 - val_loss: 0.6894 - val_accuracy: 0.6494\n",
            "Epoch 3/100\n",
            "313/313 [==============================] - 4s 11ms/step - loss: 0.6805 - accuracy: 0.6273 - val_loss: 0.6594 - val_accuracy: 0.6548\n",
            "Epoch 4/100\n",
            "313/313 [==============================] - 4s 11ms/step - loss: 0.6232 - accuracy: 0.6908 - val_loss: 0.5899 - val_accuracy: 0.7106\n",
            "Epoch 5/100\n",
            "313/313 [==============================] - 4s 12ms/step - loss: 0.5731 - accuracy: 0.7272 - val_loss: 0.5555 - val_accuracy: 0.7368\n",
            "Epoch 6/100\n",
            "313/313 [==============================] - 4s 11ms/step - loss: 0.5464 - accuracy: 0.7423 - val_loss: 0.5330 - val_accuracy: 0.7512\n",
            "Epoch 7/100\n",
            "313/313 [==============================] - 4s 11ms/step - loss: 0.5242 - accuracy: 0.7578 - val_loss: 0.5151 - val_accuracy: 0.7626\n",
            "Epoch 8/100\n",
            "313/313 [==============================] - 4s 11ms/step - loss: 0.5117 - accuracy: 0.7609 - val_loss: 0.5034 - val_accuracy: 0.7690\n",
            "Epoch 9/100\n",
            "313/313 [==============================] - 4s 11ms/step - loss: 0.4985 - accuracy: 0.7687 - val_loss: 0.4902 - val_accuracy: 0.7774\n",
            "Epoch 10/100\n",
            "313/313 [==============================] - 4s 12ms/step - loss: 0.4896 - accuracy: 0.7738 - val_loss: 0.4832 - val_accuracy: 0.7804\n",
            "Epoch 11/100\n",
            "313/313 [==============================] - 4s 11ms/step - loss: 0.4792 - accuracy: 0.7800 - val_loss: 0.4753 - val_accuracy: 0.7818\n",
            "Epoch 12/100\n",
            "313/313 [==============================] - 4s 11ms/step - loss: 0.4707 - accuracy: 0.7865 - val_loss: 0.4691 - val_accuracy: 0.7856\n",
            "Epoch 13/100\n",
            "313/313 [==============================] - 4s 12ms/step - loss: 0.4656 - accuracy: 0.7854 - val_loss: 0.4642 - val_accuracy: 0.7870\n",
            "Epoch 14/100\n",
            "313/313 [==============================] - 4s 12ms/step - loss: 0.4615 - accuracy: 0.7858 - val_loss: 0.4608 - val_accuracy: 0.7878\n",
            "Epoch 15/100\n",
            "313/313 [==============================] - 4s 12ms/step - loss: 0.4572 - accuracy: 0.7905 - val_loss: 0.4578 - val_accuracy: 0.7880\n",
            "Epoch 16/100\n",
            "313/313 [==============================] - 4s 12ms/step - loss: 0.4529 - accuracy: 0.7915 - val_loss: 0.4546 - val_accuracy: 0.7882\n",
            "Epoch 17/100\n",
            "313/313 [==============================] - 4s 11ms/step - loss: 0.4484 - accuracy: 0.7956 - val_loss: 0.4516 - val_accuracy: 0.7888\n",
            "Epoch 18/100\n",
            "313/313 [==============================] - 4s 11ms/step - loss: 0.4458 - accuracy: 0.7972 - val_loss: 0.4500 - val_accuracy: 0.7912\n",
            "Epoch 19/100\n",
            "313/313 [==============================] - 4s 12ms/step - loss: 0.4441 - accuracy: 0.7981 - val_loss: 0.4487 - val_accuracy: 0.7888\n",
            "Epoch 20/100\n",
            "313/313 [==============================] - 4s 11ms/step - loss: 0.4418 - accuracy: 0.7993 - val_loss: 0.4461 - val_accuracy: 0.7894\n",
            "Epoch 21/100\n",
            "313/313 [==============================] - 4s 12ms/step - loss: 0.4391 - accuracy: 0.7982 - val_loss: 0.4434 - val_accuracy: 0.7934\n",
            "Epoch 22/100\n",
            "313/313 [==============================] - 4s 12ms/step - loss: 0.4369 - accuracy: 0.8011 - val_loss: 0.4526 - val_accuracy: 0.7910\n",
            "Epoch 23/100\n",
            "313/313 [==============================] - 4s 12ms/step - loss: 0.4341 - accuracy: 0.8007 - val_loss: 0.4460 - val_accuracy: 0.7886\n",
            "Epoch 24/100\n",
            "313/313 [==============================] - 4s 12ms/step - loss: 0.4346 - accuracy: 0.8041 - val_loss: 0.4394 - val_accuracy: 0.7964\n",
            "Epoch 25/100\n",
            "313/313 [==============================] - 4s 12ms/step - loss: 0.4323 - accuracy: 0.8044 - val_loss: 0.4396 - val_accuracy: 0.7980\n",
            "Epoch 26/100\n",
            "313/313 [==============================] - 4s 12ms/step - loss: 0.4302 - accuracy: 0.8060 - val_loss: 0.4376 - val_accuracy: 0.7970\n",
            "Epoch 27/100\n",
            "313/313 [==============================] - 4s 12ms/step - loss: 0.4274 - accuracy: 0.8059 - val_loss: 0.4396 - val_accuracy: 0.7936\n",
            "Epoch 28/100\n",
            "313/313 [==============================] - 4s 12ms/step - loss: 0.4259 - accuracy: 0.8075 - val_loss: 0.4377 - val_accuracy: 0.7992\n",
            "Epoch 29/100\n",
            "313/313 [==============================] - 4s 12ms/step - loss: 0.4230 - accuracy: 0.8061 - val_loss: 0.4353 - val_accuracy: 0.8014\n",
            "Epoch 30/100\n",
            "313/313 [==============================] - 4s 12ms/step - loss: 0.4227 - accuracy: 0.8076 - val_loss: 0.4342 - val_accuracy: 0.8002\n",
            "Epoch 31/100\n",
            "313/313 [==============================] - 4s 12ms/step - loss: 0.4237 - accuracy: 0.8076 - val_loss: 0.4329 - val_accuracy: 0.8008\n",
            "Epoch 32/100\n",
            "313/313 [==============================] - 4s 12ms/step - loss: 0.4221 - accuracy: 0.8084 - val_loss: 0.4319 - val_accuracy: 0.8040\n",
            "Epoch 33/100\n",
            "313/313 [==============================] - 4s 12ms/step - loss: 0.4219 - accuracy: 0.8084 - val_loss: 0.4318 - val_accuracy: 0.8022\n",
            "Epoch 34/100\n",
            "313/313 [==============================] - 4s 12ms/step - loss: 0.4199 - accuracy: 0.8089 - val_loss: 0.4307 - val_accuracy: 0.8040\n",
            "Epoch 35/100\n",
            "313/313 [==============================] - 4s 12ms/step - loss: 0.4194 - accuracy: 0.8079 - val_loss: 0.4300 - val_accuracy: 0.8042\n",
            "Epoch 36/100\n",
            "313/313 [==============================] - 4s 11ms/step - loss: 0.4178 - accuracy: 0.8110 - val_loss: 0.4319 - val_accuracy: 0.8038\n",
            "Epoch 37/100\n",
            "313/313 [==============================] - 4s 11ms/step - loss: 0.4180 - accuracy: 0.8084 - val_loss: 0.4292 - val_accuracy: 0.8044\n",
            "Epoch 38/100\n",
            "313/313 [==============================] - 4s 12ms/step - loss: 0.4180 - accuracy: 0.8098 - val_loss: 0.4326 - val_accuracy: 0.8046\n",
            "Epoch 39/100\n",
            "313/313 [==============================] - 4s 12ms/step - loss: 0.4157 - accuracy: 0.8076 - val_loss: 0.4317 - val_accuracy: 0.8056\n",
            "Epoch 40/100\n",
            "313/313 [==============================] - 4s 12ms/step - loss: 0.4172 - accuracy: 0.8091 - val_loss: 0.4435 - val_accuracy: 0.7868\n"
          ],
          "name": "stdout"
        }
      ]
    },
    {
      "cell_type": "code",
      "metadata": {
        "colab": {
          "base_uri": "https://localhost:8080/",
          "height": 279
        },
        "id": "ByF5CSDM_nYp",
        "outputId": "ada94349-c187-46d1-cf72-7e0121e9f6e5"
      },
      "source": [
        "plt.plot(history.history['loss'])\n",
        "plt.plot(history.history['val_loss'])\n",
        "plt.xlabel('epoch')\n",
        "plt.ylabel('loss')\n",
        "plt.legend(['train', 'val'])\n",
        "plt.show()"
      ],
      "execution_count": 12,
      "outputs": [
        {
          "output_type": "display_data",
          "data": {
            "image/png": "[encoded data removed]",
            "text/plain": [
              "<Figure size 432x288 with 1 Axes>"
            ]
          },
          "metadata": {
            "tags": [],
            "needs_background": "light"
          }
        }
      ]
    },
    {
      "cell_type": "code",
      "metadata": {
        "colab": {
          "base_uri": "https://localhost:8080/"
        },
        "id": "07ixfOHiC6fE",
        "outputId": "6ca7556b-7856-43f3-90b1-f5b783fcd920"
      },
      "source": [
        "model4 = keras.Sequential()\n",
        "\n",
        "model4.add(keras.layers.Embedding(500, 16, input_length=100))\n",
        "model4.add(keras.layers.GRU(8))\n",
        "model4.add(keras.layers.Dense(1, activation='sigmoid'))\n",
        "\n",
        "model4.summary()"
      ],
      "execution_count": 13,
      "outputs": [
        {
          "output_type": "stream",
          "text": [
            "Model: \"sequential_3\"\n",
            "_________________________________________________________________\n",
            "Layer (type)                 Output Shape              Param #   \n",
            "=================================================================\n",
            "embedding_3 (Embedding)      (None, 100, 16)           8000      \n",
            "_________________________________________________________________\n",
            "gru (GRU)                    (None, 8)                 624       \n",
            "_________________________________________________________________\n",
            "dense_3 (Dense)              (None, 1)                 9         \n",
            "=================================================================\n",
            "Total params: 8,633\n",
            "Trainable params: 8,633\n",
            "Non-trainable params: 0\n",
            "_________________________________________________________________\n"
          ],
          "name": "stdout"
        }
      ]
    },
    {
      "cell_type": "code",
      "metadata": {
        "colab": {
          "base_uri": "https://localhost:8080/"
        },
        "id": "VFY0W9JHEOGq",
        "outputId": "484ed8a8-6b61-4d52-8cc4-11a6fe12a08e"
      },
      "source": [
        "rmsprop = keras.optimizers.RMSprop(learning_rate=1e-4)\n",
        "model4.compile(optimizer=rmsprop, loss='binary_crossentropy', \n",
        "               metrics=['accuracy'])\n",
        "\n",
        "checkpoint_cb = keras.callbacks.ModelCheckpoint('best-gru-model.h5', \n",
        "                                                save_best_only=True)\n",
        "early_stopping_cb = keras.callbacks.EarlyStopping(patience=3,\n",
        "                                                  restore_best_weights=True)\n",
        "\n",
        "history = model4.fit(train_seq, train_target, epochs=100, batch_size=64,\n",
        "                     validation_data=(val_seq, val_target),\n",
        "                     callbacks=[checkpoint_cb, early_stopping_cb])"
      ],
      "execution_count": 14,
      "outputs": [
        {
          "output_type": "stream",
          "text": [
            "Epoch 1/100\n",
            "313/313 [==============================] - 4s 8ms/step - loss: 0.6924 - accuracy: 0.5317 - val_loss: 0.6918 - val_accuracy: 0.5416\n",
            "Epoch 2/100\n",
            "313/313 [==============================] - 2s 7ms/step - loss: 0.6908 - accuracy: 0.5628 - val_loss: 0.6900 - val_accuracy: 0.5600\n",
            "Epoch 3/100\n",
            "313/313 [==============================] - 2s 7ms/step - loss: 0.6880 - accuracy: 0.5922 - val_loss: 0.6866 - val_accuracy: 0.5826\n",
            "Epoch 4/100\n",
            "313/313 [==============================] - 2s 7ms/step - loss: 0.6832 - accuracy: 0.6088 - val_loss: 0.6807 - val_accuracy: 0.6078\n",
            "Epoch 5/100\n",
            "313/313 [==============================] - 2s 7ms/step - loss: 0.6750 - accuracy: 0.6234 - val_loss: 0.6718 - val_accuracy: 0.6162\n",
            "Epoch 6/100\n",
            "313/313 [==============================] - 2s 7ms/step - loss: 0.6624 - accuracy: 0.6417 - val_loss: 0.6574 - val_accuracy: 0.6324\n",
            "Epoch 7/100\n",
            "313/313 [==============================] - 2s 7ms/step - loss: 0.6431 - accuracy: 0.6558 - val_loss: 0.6350 - val_accuracy: 0.6574\n",
            "Epoch 8/100\n",
            "313/313 [==============================] - 2s 7ms/step - loss: 0.6114 - accuracy: 0.6790 - val_loss: 0.5971 - val_accuracy: 0.6914\n",
            "Epoch 9/100\n",
            "313/313 [==============================] - 2s 7ms/step - loss: 0.5569 - accuracy: 0.7162 - val_loss: 0.5366 - val_accuracy: 0.7358\n",
            "Epoch 10/100\n",
            "313/313 [==============================] - 2s 7ms/step - loss: 0.5119 - accuracy: 0.7517 - val_loss: 0.5121 - val_accuracy: 0.7508\n",
            "Epoch 11/100\n",
            "313/313 [==============================] - 2s 7ms/step - loss: 0.4931 - accuracy: 0.7649 - val_loss: 0.4987 - val_accuracy: 0.7584\n",
            "Epoch 12/100\n",
            "313/313 [==============================] - 2s 7ms/step - loss: 0.4801 - accuracy: 0.7747 - val_loss: 0.4869 - val_accuracy: 0.7680\n",
            "Epoch 13/100\n",
            "313/313 [==============================] - 2s 7ms/step - loss: 0.4698 - accuracy: 0.7825 - val_loss: 0.4794 - val_accuracy: 0.7762\n",
            "Epoch 14/100\n",
            "313/313 [==============================] - 2s 7ms/step - loss: 0.4621 - accuracy: 0.7873 - val_loss: 0.4735 - val_accuracy: 0.7766\n",
            "Epoch 15/100\n",
            "313/313 [==============================] - 2s 7ms/step - loss: 0.4549 - accuracy: 0.7926 - val_loss: 0.4699 - val_accuracy: 0.7814\n",
            "Epoch 16/100\n",
            "313/313 [==============================] - 2s 7ms/step - loss: 0.4496 - accuracy: 0.7954 - val_loss: 0.4657 - val_accuracy: 0.7828\n",
            "Epoch 17/100\n",
            "313/313 [==============================] - 2s 7ms/step - loss: 0.4448 - accuracy: 0.7977 - val_loss: 0.4604 - val_accuracy: 0.7842\n",
            "Epoch 18/100\n",
            "313/313 [==============================] - 2s 7ms/step - loss: 0.4404 - accuracy: 0.8013 - val_loss: 0.4621 - val_accuracy: 0.7890\n",
            "Epoch 19/100\n",
            "313/313 [==============================] - 2s 7ms/step - loss: 0.4367 - accuracy: 0.8035 - val_loss: 0.4572 - val_accuracy: 0.7892\n",
            "Epoch 20/100\n",
            "313/313 [==============================] - 2s 7ms/step - loss: 0.4333 - accuracy: 0.8052 - val_loss: 0.4530 - val_accuracy: 0.7888\n",
            "Epoch 21/100\n",
            "313/313 [==============================] - 2s 7ms/step - loss: 0.4311 - accuracy: 0.8065 - val_loss: 0.4557 - val_accuracy: 0.7926\n",
            "Epoch 22/100\n",
            "313/313 [==============================] - 2s 8ms/step - loss: 0.4288 - accuracy: 0.8083 - val_loss: 0.4510 - val_accuracy: 0.7944\n",
            "Epoch 23/100\n",
            "313/313 [==============================] - 2s 7ms/step - loss: 0.4273 - accuracy: 0.8086 - val_loss: 0.4496 - val_accuracy: 0.7922\n",
            "Epoch 24/100\n",
            "313/313 [==============================] - 2s 7ms/step - loss: 0.4251 - accuracy: 0.8114 - val_loss: 0.4486 - val_accuracy: 0.7932\n",
            "Epoch 25/100\n",
            "313/313 [==============================] - 2s 7ms/step - loss: 0.4240 - accuracy: 0.8119 - val_loss: 0.4479 - val_accuracy: 0.7926\n",
            "Epoch 26/100\n",
            "313/313 [==============================] - 2s 7ms/step - loss: 0.4223 - accuracy: 0.8120 - val_loss: 0.4474 - val_accuracy: 0.7928\n",
            "Epoch 27/100\n",
            "313/313 [==============================] - 2s 7ms/step - loss: 0.4215 - accuracy: 0.8123 - val_loss: 0.4471 - val_accuracy: 0.7916\n",
            "Epoch 28/100\n",
            "313/313 [==============================] - 2s 7ms/step - loss: 0.4204 - accuracy: 0.8141 - val_loss: 0.4465 - val_accuracy: 0.7926\n",
            "Epoch 29/100\n",
            "313/313 [==============================] - 2s 7ms/step - loss: 0.4197 - accuracy: 0.8134 - val_loss: 0.4458 - val_accuracy: 0.7920\n",
            "Epoch 30/100\n",
            "313/313 [==============================] - 2s 7ms/step - loss: 0.4184 - accuracy: 0.8145 - val_loss: 0.4501 - val_accuracy: 0.7896\n",
            "Epoch 31/100\n",
            "313/313 [==============================] - 2s 8ms/step - loss: 0.4180 - accuracy: 0.8145 - val_loss: 0.4463 - val_accuracy: 0.7922\n",
            "Epoch 32/100\n",
            "313/313 [==============================] - 2s 7ms/step - loss: 0.4176 - accuracy: 0.8158 - val_loss: 0.4477 - val_accuracy: 0.7922\n"
          ],
          "name": "stdout"
        }
      ]
    },
    {
      "cell_type": "code",
      "metadata": {
        "id": "LByzvIW6EQzb"
      },
      "source": [
        "plt.plot(history.history['loss'])\n",
        "plt.plot(history.history['val_loss'])\n",
        "plt.xlabel('epoch')\n",
        "plt.ylabel('loss')\n",
        "plt.legend(['train', 'val'])\n",
        "plt.show()"
      ],
      "execution_count": null,
      "outputs": []
    },
    {
      "cell_type": "code",
      "metadata": {
        "id": "x1XzNhDmEWRa"
      },
      "source": [
        "test_seq = pad_sequences(test_input, maxlen=100)\n",
        "\n",
        "rnn_model = keras.models.load_model('best-2rnn-model.h5')\n",
        "\n",
        "rnn_model.evaluate(test_seq, test_target)"
      ],
      "execution_count": null,
      "outputs": []
    }
  ]
}