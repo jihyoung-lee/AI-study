{
  "nbformat": 4,
  "nbformat_minor": 0,
  "metadata": {
    "colab": {
      "provenance": [],
      "authorship_tag": "ABX9TyPXZ3OauupXo0VZif3gChL4",
      "include_colab_link": true
    },
    "kernelspec": {
      "name": "python3",
      "display_name": "Python 3"
    },
    "language_info": {
      "name": "python"
    }
  },
  "cells": [
    {
      "cell_type": "markdown",
      "metadata": {
        "id": "view-in-github",
        "colab_type": "text"
      },
      "source": [
        "<a href=\"https://colab.research.google.com/github/jihyoung-lee/AI-study/blob/main/DNN_first.ipynb\" target=\"_parent\"><img src=\"https://colab.research.google.com/assets/colab-badge.svg\" alt=\"Open In Colab\"/></a>"
      ]
    },
    {
      "cell_type": "code",
      "execution_count": 3,
      "metadata": {
        "colab": {
          "base_uri": "https://localhost:8080/"
        },
        "id": "C0a5jAr8OB_z",
        "outputId": "8b4dbfc6-4468-41aa-d70f-48c678561fa3"
      },
      "outputs": [
        {
          "output_type": "stream",
          "name": "stdout",
          "text": [
            "Epoch 1, Loss: 19.6468, Prediction: -0.4325\n",
            "Epoch 2, Loss: 11.5632, Prediction: 0.5995\n",
            "Epoch 3, Loss: 7.4005, Prediction: 1.2796\n",
            "Epoch 4, Loss: 4.7363, Prediction: 1.8237\n",
            "Epoch 5, Loss: 3.0312, Prediction: 2.2590\n",
            "Epoch 6, Loss: 1.9400, Prediction: 2.6072\n",
            "Epoch 7, Loss: 1.2416, Prediction: 2.8857\n",
            "Epoch 8, Loss: 0.7946, Prediction: 3.1086\n",
            "Epoch 9, Loss: 0.5086, Prediction: 3.2869\n",
            "Epoch 10, Loss: 0.3255, Prediction: 3.4295\n"
          ]
        }
      ],
      "source": [
        "import torch\n",
        "import torch.nn as nn\n",
        "import torch.optim as optim\n",
        "\n",
        "# 데이터 준비\n",
        "x = torch.tensor([[2.0]], requires_grad = False)\n",
        "y_true = torch.tensor([[4.0]], requires_grad = False)\n",
        "\n",
        "# 모델 만들기\n",
        "model = nn.Sequential(\n",
        "    nn.Linear(1, 4), #입력 1개 - > 은닉층 4개\n",
        "    nn.ReLU(),\n",
        "    nn.Linear(4, 1) #은닉층 4개 -> 출력 1개\n",
        ")\n",
        "\n",
        "# 손실 함수와 옵티마이저 설정\n",
        "loss_fn = nn.MSELoss() # 평균제곱오차 MSE\n",
        "optimizer = optim.SGD(model.parameters(), lr = 0.1) # SGD 경사하강법\n",
        "\n",
        "# 학습\n",
        "for epoch in range(10):\n",
        "  y_pred = model(x) # 순전파\n",
        "  loss = loss_fn(y_pred, y_true) #손실계산\n",
        "\n",
        "  optimizer.zero_grad() #기존 기울기 초기화\n",
        "  loss.backward() #역전파 (미분)\n",
        "  optimizer.step() #가중치수정\n",
        "\n",
        "  print(f\"Epoch {epoch+1}, Loss: {loss.item():.4f}, Prediction: {y_pred.item():.4f}\")"
      ]
    },
    {
      "cell_type": "code",
      "source": [],
      "metadata": {
        "id": "2DzzaAqdOaye"
      },
      "execution_count": null,
      "outputs": []
    }
  ]
}