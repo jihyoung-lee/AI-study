{
  "nbformat": 4,
  "nbformat_minor": 0,
  "metadata": {
    "colab": {
      "provenance": [],
      "authorship_tag": "ABX9TyNiou81M3/QL0WAsYDRdJe0",
      "include_colab_link": true
    },
    "kernelspec": {
      "name": "python3",
      "display_name": "Python 3"
    },
    "language_info": {
      "name": "python"
    }
  },
  "cells": [
    {
      "cell_type": "markdown",
      "metadata": {
        "id": "view-in-github",
        "colab_type": "text"
      },
      "source": [
        "<a href=\"https://colab.research.google.com/github/jihyoung-lee/AI-study/blob/main/pytorch_guocheng.ipynb\" target=\"_parent\"><img src=\"https://colab.research.google.com/assets/colab-badge.svg\" alt=\"Open In Colab\"/></a>"
      ]
    },
    {
      "cell_type": "code",
      "execution_count": 1,
      "metadata": {
        "colab": {
          "base_uri": "https://localhost:8080/"
        },
        "id": "eVds7Hpe9fRT",
        "outputId": "335e7d2b-6e4e-4d96-8ec4-bb90864b48f6"
      },
      "outputs": [
        {
          "output_type": "stream",
          "name": "stdout",
          "text": [
            "epoch 1, loss 1.5427\n",
            "epoch 2, loss 1.5143\n",
            "epoch 3, loss 1.4871\n",
            "epoch 4, loss 1.4610\n",
            "epoch 5, loss 1.4359\n",
            "epoch 6, loss 1.4119\n",
            "epoch 7, loss 1.3889\n",
            "epoch 8, loss 1.3667\n",
            "epoch 9, loss 1.3455\n",
            "epoch 10, loss 1.3252\n"
          ]
        }
      ],
      "source": [
        "import torch\n",
        "import torch.nn as nn\n",
        "\n",
        "#데이터\n",
        "X = torch.randn(100, 10)\n",
        "y = torch.randn(100, 1)\n",
        "\n",
        "# model\n",
        "\n",
        "class MyModel(nn.Module):\n",
        "  def __init__(self):\n",
        "    super().__init__()\n",
        "    self.linear = nn.Linear(10, 1)\n",
        "\n",
        "  def forward(self, x):\n",
        "    return self.linear(x)\n",
        "\n",
        "model = MyModel()\n",
        "\n",
        "#손실함수 옵티마이저\n",
        "loss_fn = nn.MSELoss()\n",
        "optimizer = torch.optim.SGD(model.parameters(), lr=0.01)\n",
        "\n",
        "#학습\n",
        "for epoch in range(10):\n",
        "  optimizer.zero_grad()\n",
        "  output = model(X)\n",
        "  loss = loss_fn(output, y)\n",
        "  loss.backward()\n",
        "  optimizer.step()\n",
        "  print(f\"epoch {epoch+1}, loss {loss.item():.4f}\")"
      ]
    }
  ]
}