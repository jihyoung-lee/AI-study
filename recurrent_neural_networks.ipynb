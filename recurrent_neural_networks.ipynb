{
  "nbformat": 4,
  "nbformat_minor": 0,
  "metadata": {
    "colab": {
      "name": "recurrent neural networks.ipynb",
      "provenance": [],
      "collapsed_sections": [],
      "authorship_tag": "ABX9TyNnDp61G2KaE/eXV38fhdzn",
      "include_colab_link": true
    },
    "kernelspec": {
      "name": "python3",
      "display_name": "Python 3"
    },
    "language_info": {
      "name": "python"
    },
    "accelerator": "GPU"
  },
  "cells": [
    {
      "cell_type": "markdown",
      "metadata": {
        "id": "view-in-github",
        "colab_type": "text"
      },
      "source": [
        "<a href=\"https://colab.research.google.com/github/jihyoung-lee/AI-study/blob/main/recurrent_neural_networks.ipynb\" target=\"_parent\"><img src=\"https://colab.research.google.com/assets/colab-badge.svg\" alt=\"Open In Colab\"/></a>"
      ]
    },
    {
      "cell_type": "markdown",
      "metadata": {
        "id": "999G9Pa3yIu8"
      },
      "source": [
        "# **데이터 전처리**"
      ]
    },
    {
      "cell_type": "markdown",
      "metadata": {
        "id": "FcLr_AGSyMBV"
      },
      "source": [
        ""
      ]
    },
    {
      "cell_type": "code",
      "metadata": {
        "colab": {
          "base_uri": "https://localhost:8080/"
        },
        "id": "PGSR2-ki_7YF",
        "outputId": "8b26fa3f-d4de-4fc3-e296-4ad339144169"
      },
      "source": [
        "from tensorflow.keras.datasets import imdb\n",
        "\n",
        "(train_input, train_target), (test_input, test_target) = imdb.load_data(\n",
        "    num_words=500) # 전체 데이터셋에서 가장 자주 등장하는 단어 500개만 사용"
      ],
      "execution_count": null,
      "outputs": [
        {
          "output_type": "stream",
          "text": [
            "Downloading data from https://storage.googleapis.com/tensorflow/tf-keras-datasets/imdb.npz\n",
            "17465344/17464789 [==============================] - 0s 0us/step\n"
          ],
          "name": "stdout"
        },
        {
          "output_type": "stream",
          "text": [
            "<string>:6: VisibleDeprecationWarning: Creating an ndarray from ragged nested sequences (which is a list-or-tuple of lists-or-tuples-or ndarrays with different lengths or shapes) is deprecated. If you meant to do this, you must specify 'dtype=object' when creating the ndarray\n",
            "/usr/local/lib/python3.7/dist-packages/tensorflow/python/keras/datasets/imdb.py:155: VisibleDeprecationWarning: Creating an ndarray from ragged nested sequences (which is a list-or-tuple of lists-or-tuples-or ndarrays with different lengths or shapes) is deprecated. If you meant to do this, you must specify 'dtype=object' when creating the ndarray\n",
            "  x_train, y_train = np.array(xs[:idx]), np.array(labels[:idx])\n",
            "/usr/local/lib/python3.7/dist-packages/tensorflow/python/keras/datasets/imdb.py:156: VisibleDeprecationWarning: Creating an ndarray from ragged nested sequences (which is a list-or-tuple of lists-or-tuples-or ndarrays with different lengths or shapes) is deprecated. If you meant to do this, you must specify 'dtype=object' when creating the ndarray\n",
            "  x_test, y_test = np.array(xs[idx:]), np.array(labels[idx:])\n"
          ],
          "name": "stderr"
        }
      ]
    },
    {
      "cell_type": "code",
      "metadata": {
        "colab": {
          "base_uri": "https://localhost:8080/"
        },
        "id": "RsluA5mpUVRJ",
        "outputId": "02966363-ef35-460f-8894-ee62be72bda9"
      },
      "source": [
        "print(train_input.shape, test_input.shape)"
      ],
      "execution_count": null,
      "outputs": [
        {
          "output_type": "stream",
          "text": [
            "(25000,) (25000,)\n"
          ],
          "name": "stdout"
        }
      ]
    },
    {
      "cell_type": "code",
      "metadata": {
        "colab": {
          "base_uri": "https://localhost:8080/"
        },
        "id": "i9HVu1VPVR5a",
        "outputId": "a35af154-6a30-4b2b-e746-528fcb10982f"
      },
      "source": [
        "print(len(train_input[0]))\n",
        "print(len(train_input[1]))\n",
        "print(train_input[0])"
      ],
      "execution_count": null,
      "outputs": [
        {
          "output_type": "stream",
          "text": [
            "218\n",
            "189\n",
            "[1, 14, 22, 16, 43, 2, 2, 2, 2, 65, 458, 2, 66, 2, 4, 173, 36, 256, 5, 25, 100, 43, 2, 112, 50, 2, 2, 9, 35, 480, 284, 5, 150, 4, 172, 112, 167, 2, 336, 385, 39, 4, 172, 2, 2, 17, 2, 38, 13, 447, 4, 192, 50, 16, 6, 147, 2, 19, 14, 22, 4, 2, 2, 469, 4, 22, 71, 87, 12, 16, 43, 2, 38, 76, 15, 13, 2, 4, 22, 17, 2, 17, 12, 16, 2, 18, 2, 5, 62, 386, 12, 8, 316, 8, 106, 5, 4, 2, 2, 16, 480, 66, 2, 33, 4, 130, 12, 16, 38, 2, 5, 25, 124, 51, 36, 135, 48, 25, 2, 33, 6, 22, 12, 215, 28, 77, 52, 5, 14, 407, 16, 82, 2, 8, 4, 107, 117, 2, 15, 256, 4, 2, 7, 2, 5, 2, 36, 71, 43, 2, 476, 26, 400, 317, 46, 7, 4, 2, 2, 13, 104, 88, 4, 381, 15, 297, 98, 32, 2, 56, 26, 141, 6, 194, 2, 18, 4, 226, 22, 21, 134, 476, 26, 480, 5, 144, 30, 2, 18, 51, 36, 28, 224, 92, 25, 104, 4, 226, 65, 16, 38, 2, 88, 12, 16, 283, 5, 16, 2, 113, 103, 32, 15, 16, 2, 19, 178, 32]\n"
          ],
          "name": "stdout"
        }
      ]
    },
    {
      "cell_type": "code",
      "metadata": {
        "colab": {
          "base_uri": "https://localhost:8080/"
        },
        "id": "SMo9O5JzabRn",
        "outputId": "7b4e55c1-2989-4a8e-c83a-c3b6530b1485"
      },
      "source": [
        "print(train_target[:20])"
      ],
      "execution_count": null,
      "outputs": [
        {
          "output_type": "stream",
          "text": [
            "[1 0 0 1 0 0 1 0 1 0 1 0 0 0 0 0 1 1 0 1]\n"
          ],
          "name": "stdout"
        }
      ]
    },
    {
      "cell_type": "code",
      "metadata": {
        "id": "LIcTW5wJa3vP"
      },
      "source": [
        "from sklearn.model_selection import train_test_split\n",
        "\n",
        "train_input, val_input, train_target, val_target = train_test_split(\n",
        "    train_input, train_target, test_size=0.2, random_state=42)"
      ],
      "execution_count": null,
      "outputs": []
    },
    {
      "cell_type": "code",
      "metadata": {
        "id": "p1JqomCMe9LT"
      },
      "source": [
        "import numpy as np\n",
        "# 넘파이 리스트 내포 사용\n",
        "lengths = np.array([len(x) for x in train_input])"
      ],
      "execution_count": null,
      "outputs": []
    },
    {
      "cell_type": "code",
      "metadata": {
        "colab": {
          "base_uri": "https://localhost:8080/"
        },
        "id": "uC4-Oiose-Wk",
        "outputId": "2a6aafac-2b8f-43a9-fe1d-fb51ea0956bf"
      },
      "source": [
        "print(np.mean(lengths), np.median(lengths)) # 리뷰 길이의 평균값, 중간값"
      ],
      "execution_count": null,
      "outputs": [
        {
          "output_type": "stream",
          "text": [
            "239.00925 178.0\n"
          ],
          "name": "stdout"
        }
      ]
    },
    {
      "cell_type": "code",
      "metadata": {
        "colab": {
          "base_uri": "https://localhost:8080/",
          "height": 279
        },
        "id": "7SdEtzXKfz2b",
        "outputId": "5423ff6f-4b9c-40bf-8bca-714e4c53b239"
      },
      "source": [
        "import matplotlib.pyplot as plt\n",
        "\n",
        "# lengths 배열 히스토그램으로 표현\n",
        "plt.hist(lengths)\n",
        "plt.xlabel('length')\n",
        "plt.ylabel('frequency')\n",
        "plt.show()"
      ],
      "execution_count": null,
      "outputs": [
        {
          "output_type": "display_data",
          "data": {
            "image/png": "[encoded data removed]",
            "text/plain": [
              "<Figure size 432x288 with 1 Axes>"
            ]
          },
          "metadata": {
            "tags": [],
            "needs_background": "light"
          }
        }
      ]
    },
    {
      "cell_type": "code",
      "metadata": {
        "id": "UoaAptKSg3x2"
      },
      "source": [
        "from tensorflow.keras.preprocessing.sequence import pad_sequences\n",
        "# pad_sequences() 함수 : 시퀀스 데이터의 길이를 맞춰줌\n",
        "train_seq = pad_sequences(train_input, maxlen=100)"
      ],
      "execution_count": null,
      "outputs": []
    },
    {
      "cell_type": "code",
      "metadata": {
        "colab": {
          "base_uri": "https://localhost:8080/"
        },
        "id": "Bens9E1Kg6Wc",
        "outputId": "37e91b37-441e-4a7d-af33-75261b04317c"
      },
      "source": [
        "print(train_seq.shape) # (20000,100) 크기의 2차원배열\n",
        "print(train_seq[0]) # 첫번 째 샘플"
      ],
      "execution_count": null,
      "outputs": [
        {
          "output_type": "stream",
          "text": [
            "(20000, 100)\n",
            "[ 10   4  20   9   2 364 352   5  45   6   2   2  33 269   8   2 142   2\n",
            "   5   2  17  73  17 204   5   2  19  55   2   2  92  66 104  14  20  93\n",
            "  76   2 151  33   4  58  12 188   2 151  12 215  69 224 142  73 237   6\n",
            "   2   7   2   2 188   2 103  14  31  10  10 451   7   2   5   2  80  91\n",
            "   2  30   2  34  14  20 151  50  26 131  49   2  84  46  50  37  80  79\n",
            "   6   2  46   7  14  20  10  10 470 158]\n"
          ],
          "name": "stdout"
        }
      ]
    },
    {
      "cell_type": "code",
      "metadata": {
        "colab": {
          "base_uri": "https://localhost:8080/"
        },
        "id": "D1o7veFhjLpR",
        "outputId": "dc695b92-82b8-40fa-a9c1-80eeef5c9177"
      },
      "source": [
        "\n",
        "print(train_input[0][-10:])"
      ],
      "execution_count": null,
      "outputs": [
        {
          "output_type": "stream",
          "text": [
            "[6, 2, 46, 7, 14, 20, 10, 10, 470, 158]\n"
          ],
          "name": "stdout"
        }
      ]
    },
    {
      "cell_type": "code",
      "metadata": {
        "colab": {
          "base_uri": "https://localhost:8080/"
        },
        "id": "1x3XxGABj8BY",
        "outputId": "58428f9b-91e9-4e20-88f6-51ae51ab077a"
      },
      "source": [
        "print(train_seq[5])"
      ],
      "execution_count": null,
      "outputs": [
        {
          "output_type": "stream",
          "text": [
            "[  0   0   0   0   1   2 195  19  49   2   2 190   4   2 352   2 183  10\n",
            "  10  13  82  79   4   2  36  71 269   8   2  25  19  49   7   4   2   2\n",
            "   2   2   2  10  10  48  25  40   2  11   2   2  40   2   2   5   4   2\n",
            "   2  95  14 238  56 129   2  10  10  21   2  94 364 352   2   2  11 190\n",
            "  24 484   2   7  94 205 405  10  10  87   2  34  49   2   7   2   2   2\n",
            "   2   2 290   2  46  48  64  18   4   2]\n"
          ],
          "name": "stdout"
        }
      ]
    },
    {
      "cell_type": "markdown",
      "metadata": {
        "id": "DKZFpphoyA3t"
      },
      "source": [
        "# **순환 신경망 모델**"
      ]
    },
    {
      "cell_type": "code",
      "metadata": {
        "id": "aQi52js6lDe7"
      },
      "source": [
        "from tensorflow import keras\n",
        "\n",
        "model = keras.Sequential()\n",
        "# 첫번 째 매개변수는 사용할 뉴런의 갯수, input_shape의 첫번째 차원이 100인 것은 샘플의 길이가 100이기때문\n",
        "# 순환층의 활성화 함수의 기본값은 tanh\n",
        "model.add(keras.layers.SimpleRNN(8, input_shape=(100, 500)))\n",
        "model.add(keras.layers.Dense(1, activation='sigmoid')) "
      ],
      "execution_count": null,
      "outputs": []
    },
    {
      "cell_type": "code",
      "metadata": {
        "colab": {
          "base_uri": "https://localhost:8080/"
        },
        "id": "rBIYCHFttVrD",
        "outputId": "287223a7-94ab-4b93-c626-db959f99822a"
      },
      "source": [
        "train_oh = keras.utils.to_categorical(train_seq)\n",
        "print(train_oh.shape)"
      ],
      "execution_count": null,
      "outputs": [
        {
          "output_type": "stream",
          "text": [
            "(20000, 100, 500)\n"
          ],
          "name": "stdout"
        }
      ]
    },
    {
      "cell_type": "code",
      "metadata": {
        "colab": {
          "base_uri": "https://localhost:8080/"
        },
        "id": "-zzxxBENuB9p",
        "outputId": "3d5d1aac-eb9f-44a8-9a1e-4a0d128a2ddb"
      },
      "source": [
        "print(train_oh[0][0][:12])\n",
        "print(np.sum(train_oh[0][0]))"
      ],
      "execution_count": null,
      "outputs": [
        {
          "output_type": "stream",
          "text": [
            "[0. 0. 0. 0. 0. 0. 0. 0. 0. 0. 1. 0.]\n",
            "1.0\n"
          ],
          "name": "stdout"
        }
      ]
    },
    {
      "cell_type": "code",
      "metadata": {
        "id": "bmslf-XwuM4C"
      },
      "source": [
        "val_seq = pad_sequences(val_input, maxlen=100)\n",
        "val_oh = keras.utils.to_categorical(val_seq)"
      ],
      "execution_count": null,
      "outputs": []
    },
    {
      "cell_type": "code",
      "metadata": {
        "colab": {
          "base_uri": "https://localhost:8080/"
        },
        "id": "HsVOc72qvndb",
        "outputId": "ae5c412c-ec6e-4668-9c65-86f2a4cf81d3"
      },
      "source": [
        "model.summary()"
      ],
      "execution_count": null,
      "outputs": [
        {
          "output_type": "stream",
          "text": [
            "Model: \"sequential\"\n",
            "_________________________________________________________________\n",
            "Layer (type)                 Output Shape              Param #   \n",
            "=================================================================\n",
            "simple_rnn (SimpleRNN)       (None, 8)                 4072      \n",
            "_________________________________________________________________\n",
            "dense (Dense)                (None, 1)                 9         \n",
            "=================================================================\n",
            "Total params: 4,081\n",
            "Trainable params: 4,081\n",
            "Non-trainable params: 0\n",
            "_________________________________________________________________\n"
          ],
          "name": "stdout"
        }
      ]
    },
    {
      "cell_type": "markdown",
      "metadata": {
        "id": "23LTMjrLyPUY"
      },
      "source": [
        "# **순환 신경망 훈련**"
      ]
    },
    {
      "cell_type": "code",
      "metadata": {
        "colab": {
          "base_uri": "https://localhost:8080/"
        },
        "id": "6D8uqGMlyT0h",
        "outputId": "91beef67-3808-4f49-a76e-d7f4f8dfcead"
      },
      "source": [
        "rmsprop = keras.optimizers.RMSprop(learning_rate=1e-4)\n",
        "model.compile(optimizer=rmsprop, loss='binary_crossentropy', \n",
        "              metrics=['accuracy'])\n",
        "\n",
        "checkpoint_cb = keras.callbacks.ModelCheckpoint('best-simplernn-model.h5', \n",
        "                                                save_best_only=True)\n",
        "early_stopping_cb = keras.callbacks.EarlyStopping(patience=3,\n",
        "                                                  restore_best_weights=True)\n",
        "\n",
        "history = model.fit(train_oh, train_target, epochs=100, batch_size=64,\n",
        "                    validation_data=(val_oh, val_target),\n",
        "                    callbacks=[checkpoint_cb, early_stopping_cb])"
      ],
      "execution_count": null,
      "outputs": [
        {
          "output_type": "stream",
          "text": [
            "Epoch 1/100\n",
            "313/313 [==============================] - 25s 69ms/step - loss: 0.7000 - accuracy: 0.5046 - val_loss: 0.6980 - val_accuracy: 0.5064\n",
            "Epoch 2/100\n",
            "313/313 [==============================] - 21s 68ms/step - loss: 0.6947 - accuracy: 0.5167 - val_loss: 0.6949 - val_accuracy: 0.5156\n",
            "Epoch 3/100\n",
            "313/313 [==============================] - 21s 68ms/step - loss: 0.6911 - accuracy: 0.5282 - val_loss: 0.6926 - val_accuracy: 0.5228\n",
            "Epoch 4/100\n",
            "313/313 [==============================] - 22s 69ms/step - loss: 0.6880 - accuracy: 0.5406 - val_loss: 0.6903 - val_accuracy: 0.5324\n",
            "Epoch 5/100\n",
            "313/313 [==============================] - 21s 67ms/step - loss: 0.6851 - accuracy: 0.5529 - val_loss: 0.6883 - val_accuracy: 0.5384\n",
            "Epoch 6/100\n",
            "313/313 [==============================] - 21s 68ms/step - loss: 0.6822 - accuracy: 0.5653 - val_loss: 0.6859 - val_accuracy: 0.5416\n",
            "Epoch 7/100\n",
            "313/313 [==============================] - 21s 68ms/step - loss: 0.6792 - accuracy: 0.5752 - val_loss: 0.6838 - val_accuracy: 0.5522\n",
            "Epoch 8/100\n",
            "313/313 [==============================] - 21s 68ms/step - loss: 0.6759 - accuracy: 0.5877 - val_loss: 0.6813 - val_accuracy: 0.5604\n",
            "Epoch 9/100\n",
            "313/313 [==============================] - 21s 68ms/step - loss: 0.6721 - accuracy: 0.5974 - val_loss: 0.6781 - val_accuracy: 0.5722\n",
            "Epoch 10/100\n",
            "313/313 [==============================] - 21s 67ms/step - loss: 0.6675 - accuracy: 0.6062 - val_loss: 0.6734 - val_accuracy: 0.5830\n",
            "Epoch 11/100\n",
            "313/313 [==============================] - 21s 68ms/step - loss: 0.6602 - accuracy: 0.6222 - val_loss: 0.6632 - val_accuracy: 0.6056\n",
            "Epoch 12/100\n",
            "313/313 [==============================] - 21s 67ms/step - loss: 0.6396 - accuracy: 0.6471 - val_loss: 0.6150 - val_accuracy: 0.6700\n",
            "Epoch 13/100\n",
            "313/313 [==============================] - 21s 67ms/step - loss: 0.5831 - accuracy: 0.6963 - val_loss: 0.5847 - val_accuracy: 0.6956\n",
            "Epoch 14/100\n",
            "313/313 [==============================] - 21s 68ms/step - loss: 0.5607 - accuracy: 0.7179 - val_loss: 0.5635 - val_accuracy: 0.7184\n",
            "Epoch 15/100\n",
            "313/313 [==============================] - 21s 68ms/step - loss: 0.5433 - accuracy: 0.7364 - val_loss: 0.5497 - val_accuracy: 0.7292\n",
            "Epoch 16/100\n",
            "313/313 [==============================] - 22s 69ms/step - loss: 0.5301 - accuracy: 0.7491 - val_loss: 0.5372 - val_accuracy: 0.7404\n",
            "Epoch 17/100\n",
            "313/313 [==============================] - 21s 69ms/step - loss: 0.5174 - accuracy: 0.7584 - val_loss: 0.5286 - val_accuracy: 0.7478\n",
            "Epoch 18/100\n",
            "313/313 [==============================] - 22s 70ms/step - loss: 0.5059 - accuracy: 0.7666 - val_loss: 0.5228 - val_accuracy: 0.7526\n",
            "Epoch 19/100\n",
            "313/313 [==============================] - 22s 70ms/step - loss: 0.4971 - accuracy: 0.7723 - val_loss: 0.5136 - val_accuracy: 0.7574\n",
            "Epoch 20/100\n",
            "313/313 [==============================] - 21s 67ms/step - loss: 0.4886 - accuracy: 0.7783 - val_loss: 0.5055 - val_accuracy: 0.7608\n",
            "Epoch 21/100\n",
            "313/313 [==============================] - 22s 69ms/step - loss: 0.4807 - accuracy: 0.7839 - val_loss: 0.4990 - val_accuracy: 0.7682\n",
            "Epoch 22/100\n",
            "313/313 [==============================] - 22s 70ms/step - loss: 0.4740 - accuracy: 0.7889 - val_loss: 0.4949 - val_accuracy: 0.7678\n",
            "Epoch 23/100\n",
            "313/313 [==============================] - 22s 70ms/step - loss: 0.4674 - accuracy: 0.7912 - val_loss: 0.4885 - val_accuracy: 0.7758\n",
            "Epoch 24/100\n",
            "313/313 [==============================] - 22s 69ms/step - loss: 0.4624 - accuracy: 0.7936 - val_loss: 0.4869 - val_accuracy: 0.7768\n",
            "Epoch 25/100\n",
            "313/313 [==============================] - 21s 68ms/step - loss: 0.4570 - accuracy: 0.7976 - val_loss: 0.4833 - val_accuracy: 0.7774\n",
            "Epoch 26/100\n",
            "313/313 [==============================] - 22s 69ms/step - loss: 0.4528 - accuracy: 0.8005 - val_loss: 0.4798 - val_accuracy: 0.7784\n",
            "Epoch 27/100\n",
            "313/313 [==============================] - 22s 70ms/step - loss: 0.4482 - accuracy: 0.8024 - val_loss: 0.4765 - val_accuracy: 0.7774\n",
            "Epoch 28/100\n",
            "313/313 [==============================] - 22s 69ms/step - loss: 0.4451 - accuracy: 0.8049 - val_loss: 0.4746 - val_accuracy: 0.7804\n",
            "Epoch 29/100\n",
            "313/313 [==============================] - 22s 71ms/step - loss: 0.4417 - accuracy: 0.8074 - val_loss: 0.4703 - val_accuracy: 0.7854\n",
            "Epoch 30/100\n",
            "313/313 [==============================] - 22s 71ms/step - loss: 0.4389 - accuracy: 0.8069 - val_loss: 0.4705 - val_accuracy: 0.7826\n",
            "Epoch 31/100\n",
            "313/313 [==============================] - 22s 70ms/step - loss: 0.4361 - accuracy: 0.8074 - val_loss: 0.4689 - val_accuracy: 0.7838\n",
            "Epoch 32/100\n",
            "313/313 [==============================] - 22s 71ms/step - loss: 0.4339 - accuracy: 0.8078 - val_loss: 0.4658 - val_accuracy: 0.7852\n",
            "Epoch 33/100\n",
            "313/313 [==============================] - 22s 70ms/step - loss: 0.4313 - accuracy: 0.8113 - val_loss: 0.4754 - val_accuracy: 0.7758\n",
            "Epoch 34/100\n",
            "313/313 [==============================] - 22s 71ms/step - loss: 0.4292 - accuracy: 0.8088 - val_loss: 0.4614 - val_accuracy: 0.7876\n",
            "Epoch 35/100\n",
            "313/313 [==============================] - 22s 70ms/step - loss: 0.4271 - accuracy: 0.8135 - val_loss: 0.4654 - val_accuracy: 0.7878\n",
            "Epoch 36/100\n",
            "313/313 [==============================] - 22s 70ms/step - loss: 0.4252 - accuracy: 0.8127 - val_loss: 0.4599 - val_accuracy: 0.7858\n",
            "Epoch 37/100\n",
            "313/313 [==============================] - 22s 69ms/step - loss: 0.4231 - accuracy: 0.8133 - val_loss: 0.4586 - val_accuracy: 0.7866\n",
            "Epoch 38/100\n",
            "313/313 [==============================] - 22s 71ms/step - loss: 0.4209 - accuracy: 0.8146 - val_loss: 0.4578 - val_accuracy: 0.7858\n",
            "Epoch 39/100\n",
            "313/313 [==============================] - 22s 69ms/step - loss: 0.4193 - accuracy: 0.8163 - val_loss: 0.4579 - val_accuracy: 0.7882\n",
            "Epoch 40/100\n",
            "313/313 [==============================] - 21s 69ms/step - loss: 0.4176 - accuracy: 0.8160 - val_loss: 0.4627 - val_accuracy: 0.7852\n",
            "Epoch 41/100\n",
            "313/313 [==============================] - 22s 69ms/step - loss: 0.4156 - accuracy: 0.8194 - val_loss: 0.4571 - val_accuracy: 0.7874\n",
            "Epoch 42/100\n",
            "313/313 [==============================] - 22s 70ms/step - loss: 0.4142 - accuracy: 0.8185 - val_loss: 0.4588 - val_accuracy: 0.7870\n",
            "Epoch 43/100\n",
            "313/313 [==============================] - 21s 69ms/step - loss: 0.4129 - accuracy: 0.8191 - val_loss: 0.4574 - val_accuracy: 0.7890\n",
            "Epoch 44/100\n",
            "313/313 [==============================] - 22s 69ms/step - loss: 0.4123 - accuracy: 0.8189 - val_loss: 0.4553 - val_accuracy: 0.7870\n",
            "Epoch 45/100\n",
            "313/313 [==============================] - 22s 69ms/step - loss: 0.4099 - accuracy: 0.8204 - val_loss: 0.4567 - val_accuracy: 0.7876\n",
            "Epoch 46/100\n",
            "313/313 [==============================] - 22s 69ms/step - loss: 0.4097 - accuracy: 0.8199 - val_loss: 0.4549 - val_accuracy: 0.7888\n",
            "Epoch 47/100\n",
            "313/313 [==============================] - 22s 69ms/step - loss: 0.4080 - accuracy: 0.8195 - val_loss: 0.4553 - val_accuracy: 0.7872\n",
            "Epoch 48/100\n",
            "313/313 [==============================] - 21s 68ms/step - loss: 0.4061 - accuracy: 0.8213 - val_loss: 0.4612 - val_accuracy: 0.7834\n",
            "Epoch 49/100\n",
            "313/313 [==============================] - 22s 70ms/step - loss: 0.4051 - accuracy: 0.8206 - val_loss: 0.4559 - val_accuracy: 0.7862\n"
          ],
          "name": "stdout"
        }
      ]
    },
    {
      "cell_type": "code",
      "metadata": {
        "colab": {
          "base_uri": "https://localhost:8080/",
          "height": 279
        },
        "id": "caVSItynwKOh",
        "outputId": "a75694e1-e7e5-4058-98e4-723af98d0525"
      },
      "source": [
        "import matplotlib.pyplot as plt\n",
        "plt.plot(history.history['loss'])\n",
        "plt.plot(history.history['val_loss'])\n",
        "plt.xlabel('epoch')\n",
        "plt.ylabel('loss')\n",
        "plt.legend(['train', 'val'])\n",
        "plt.show()"
      ],
      "execution_count": null,
      "outputs": [
        {
          "output_type": "display_data",
          "data": {
            "image/png": "[encoded data removed]",
            "text/plain": [
              "<Figure size 432x288 with 1 Axes>"
            ]
          },
          "metadata": {
            "tags": [],
            "needs_background": "light"
          }
        }
      ]
    },
    {
      "cell_type": "code",
      "metadata": {
        "colab": {
          "base_uri": "https://localhost:8080/"
        },
        "id": "dZ-8mm3U5LKJ",
        "outputId": "8fc80162-1491-4dbe-c268-c354cb989ba0"
      },
      "source": [
        "print(train_seq.nbytes, train_oh.nbytes)"
      ],
      "execution_count": null,
      "outputs": [
        {
          "output_type": "stream",
          "text": [
            "8000000 4000000000\n"
          ],
          "name": "stdout"
        }
      ]
    },
    {
      "cell_type": "code",
      "metadata": {
        "colab": {
          "base_uri": "https://localhost:8080/"
        },
        "id": "zD4PzmTZ_Ugp",
        "outputId": "504bdaa5-c664-40b7-baaf-16b44f351299"
      },
      "source": [
        "model2 = keras.Sequential()\n",
        "\n",
        "model2.add(keras.layers.Embedding(500, 16, input_length=100))\n",
        "model2.add(keras.layers.SimpleRNN(8))\n",
        "model2.add(keras.layers.Dense(1, activation='sigmoid'))\n",
        "\n",
        "model2.summary()"
      ],
      "execution_count": null,
      "outputs": [
        {
          "output_type": "stream",
          "text": [
            "Model: \"sequential_1\"\n",
            "_________________________________________________________________\n",
            "Layer (type)                 Output Shape              Param #   \n",
            "=================================================================\n",
            "embedding (Embedding)        (None, 100, 16)           8000      \n",
            "_________________________________________________________________\n",
            "simple_rnn_1 (SimpleRNN)     (None, 8)                 200       \n",
            "_________________________________________________________________\n",
            "dense_1 (Dense)              (None, 1)                 9         \n",
            "=================================================================\n",
            "Total params: 8,209\n",
            "Trainable params: 8,209\n",
            "Non-trainable params: 0\n",
            "_________________________________________________________________\n"
          ],
          "name": "stdout"
        }
      ]
    },
    {
      "cell_type": "code",
      "metadata": {
        "colab": {
          "base_uri": "https://localhost:8080/"
        },
        "id": "dVuciqJBDktU",
        "outputId": "21a5fc53-d02b-416d-b43e-603b4ce61128"
      },
      "source": [
        "rmsprop = keras.optimizers.RMSprop(learning_rate=1e-4)\n",
        "model2.compile(optimizer=rmsprop, loss='binary_crossentropy', \n",
        "               metrics=['accuracy'])\n",
        "\n",
        "checkpoint_cb = keras.callbacks.ModelCheckpoint('best-embedding-model.h5', \n",
        "                                                save_best_only=True)\n",
        "early_stopping_cb = keras.callbacks.EarlyStopping(patience=3,\n",
        "                                                  restore_best_weights=True)\n",
        "\n",
        "history = model2.fit(train_seq, train_target, epochs=100, batch_size=64,\n",
        "                     validation_data=(val_seq, val_target),\n",
        "                     callbacks=[checkpoint_cb, early_stopping_cb])"
      ],
      "execution_count": null,
      "outputs": [
        {
          "output_type": "stream",
          "text": [
            "Epoch 1/100\n",
            "313/313 [==============================] - 28s 86ms/step - loss: 0.6811 - accuracy: 0.5684 - val_loss: 0.6701 - val_accuracy: 0.6086\n",
            "Epoch 2/100\n",
            "313/313 [==============================] - 26s 84ms/step - loss: 0.6513 - accuracy: 0.6566 - val_loss: 0.6409 - val_accuracy: 0.6766\n",
            "Epoch 3/100\n",
            "313/313 [==============================] - 26s 85ms/step - loss: 0.6227 - accuracy: 0.7059 - val_loss: 0.6149 - val_accuracy: 0.7124\n",
            "Epoch 4/100\n",
            "313/313 [==============================] - 26s 84ms/step - loss: 0.5955 - accuracy: 0.7351 - val_loss: 0.5932 - val_accuracy: 0.7224\n",
            "Epoch 5/100\n",
            "313/313 [==============================] - 26s 85ms/step - loss: 0.5716 - accuracy: 0.7523 - val_loss: 0.5691 - val_accuracy: 0.7450\n",
            "Epoch 6/100\n",
            "313/313 [==============================] - 26s 83ms/step - loss: 0.5505 - accuracy: 0.7641 - val_loss: 0.5527 - val_accuracy: 0.7496\n",
            "Epoch 7/100\n",
            "313/313 [==============================] - 26s 84ms/step - loss: 0.5315 - accuracy: 0.7706 - val_loss: 0.5349 - val_accuracy: 0.7624\n",
            "Epoch 8/100\n",
            "313/313 [==============================] - 26s 83ms/step - loss: 0.5154 - accuracy: 0.7794 - val_loss: 0.5245 - val_accuracy: 0.7612\n",
            "Epoch 9/100\n",
            "313/313 [==============================] - 26s 84ms/step - loss: 0.4999 - accuracy: 0.7876 - val_loss: 0.5103 - val_accuracy: 0.7682\n",
            "Epoch 10/100\n",
            "313/313 [==============================] - 27s 85ms/step - loss: 0.4873 - accuracy: 0.7911 - val_loss: 0.4988 - val_accuracy: 0.7716\n",
            "Epoch 11/100\n",
            "313/313 [==============================] - 26s 83ms/step - loss: 0.4751 - accuracy: 0.7954 - val_loss: 0.5214 - val_accuracy: 0.7486\n",
            "Epoch 12/100\n",
            "313/313 [==============================] - 26s 83ms/step - loss: 0.4652 - accuracy: 0.8004 - val_loss: 0.4797 - val_accuracy: 0.7882\n",
            "Epoch 13/100\n",
            "313/313 [==============================] - 26s 84ms/step - loss: 0.4562 - accuracy: 0.8036 - val_loss: 0.4738 - val_accuracy: 0.7894\n",
            "Epoch 14/100\n",
            "313/313 [==============================] - 26s 84ms/step - loss: 0.4481 - accuracy: 0.8074 - val_loss: 0.4729 - val_accuracy: 0.7882\n",
            "Epoch 15/100\n",
            "313/313 [==============================] - 26s 83ms/step - loss: 0.4408 - accuracy: 0.8109 - val_loss: 0.4660 - val_accuracy: 0.7898\n",
            "Epoch 16/100\n",
            "313/313 [==============================] - 26s 84ms/step - loss: 0.4354 - accuracy: 0.8116 - val_loss: 0.4624 - val_accuracy: 0.7928\n",
            "Epoch 17/100\n",
            "313/313 [==============================] - 26s 83ms/step - loss: 0.4298 - accuracy: 0.8128 - val_loss: 0.4591 - val_accuracy: 0.7906\n",
            "Epoch 18/100\n",
            "313/313 [==============================] - 26s 84ms/step - loss: 0.4256 - accuracy: 0.8145 - val_loss: 0.4588 - val_accuracy: 0.7890\n",
            "Epoch 19/100\n",
            "313/313 [==============================] - 26s 84ms/step - loss: 0.4215 - accuracy: 0.8160 - val_loss: 0.4561 - val_accuracy: 0.7894\n",
            "Epoch 20/100\n",
            "313/313 [==============================] - 26s 84ms/step - loss: 0.4172 - accuracy: 0.8171 - val_loss: 0.4553 - val_accuracy: 0.7886\n",
            "Epoch 21/100\n",
            "313/313 [==============================] - 26s 83ms/step - loss: 0.4146 - accuracy: 0.8207 - val_loss: 0.4537 - val_accuracy: 0.7922\n",
            "Epoch 22/100\n",
            "313/313 [==============================] - 27s 85ms/step - loss: 0.4118 - accuracy: 0.8213 - val_loss: 0.4561 - val_accuracy: 0.7890\n",
            "Epoch 23/100\n",
            "313/313 [==============================] - 27s 85ms/step - loss: 0.4098 - accuracy: 0.8213 - val_loss: 0.4516 - val_accuracy: 0.7918\n",
            "Epoch 24/100\n",
            "313/313 [==============================] - 26s 83ms/step - loss: 0.4073 - accuracy: 0.8224 - val_loss: 0.4502 - val_accuracy: 0.7900\n",
            "Epoch 25/100\n",
            "313/313 [==============================] - 26s 85ms/step - loss: 0.4055 - accuracy: 0.8230 - val_loss: 0.4525 - val_accuracy: 0.7926\n",
            "Epoch 26/100\n",
            "313/313 [==============================] - 26s 83ms/step - loss: 0.4030 - accuracy: 0.8249 - val_loss: 0.4532 - val_accuracy: 0.7910\n",
            "Epoch 27/100\n",
            "313/313 [==============================] - 26s 82ms/step - loss: 0.4013 - accuracy: 0.8252 - val_loss: 0.4545 - val_accuracy: 0.7900\n"
          ],
          "name": "stdout"
        }
      ]
    },
    {
      "cell_type": "code",
      "metadata": {
        "colab": {
          "base_uri": "https://localhost:8080/",
          "height": 279
        },
        "id": "MMukj9mBYA3E",
        "outputId": "26e041ec-8105-4947-feaa-359558f9aa49"
      },
      "source": [
        "\n",
        "plt.plot(history.history['loss'])\n",
        "plt.plot(history.history['val_loss'])\n",
        "plt.xlabel('epoch')\n",
        "plt.ylabel('loss')\n",
        "plt.legend(['train', 'val'])\n",
        "plt.show()"
      ],
      "execution_count": null,
      "outputs": [
        {
          "output_type": "display_data",
          "data": {
            "image/png": "[encoded data removed]",
            "text/plain": [
              "<Figure size 432x288 with 1 Axes>"
            ]
          },
          "metadata": {
            "tags": [],
            "needs_background": "light"
          }
        }
      ]
    },
    {
      "cell_type": "code",
      "metadata": {
        "id": "PJFGqUizkykw"
      },
      "source": [
        ""
      ],
      "execution_count": null,
      "outputs": []
    }
  ]
}