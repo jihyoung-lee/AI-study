{
  "nbformat": 4,
  "nbformat_minor": 0,
  "metadata": {
    "colab": {
      "name": "vaildationSet.ipynb",
      "provenance": [],
      "authorship_tag": "ABX9TyMPEV6diVm/PC8RgKomJRLJ",
      "include_colab_link": true
    },
    "kernelspec": {
      "name": "python3",
      "display_name": "Python 3"
    },
    "language_info": {
      "name": "python"
    }
  },
  "cells": [
    {
      "cell_type": "markdown",
      "metadata": {
        "id": "view-in-github",
        "colab_type": "text"
      },
      "source": [
        "<a href=\"https://colab.research.google.com/github/jihyoung-lee/AI-study/blob/main/vaildationSet.ipynb\" target=\"_parent\"><img src=\"https://colab.research.google.com/assets/colab-badge.svg\" alt=\"Open In Colab\"/></a>"
      ]
    },
    {
      "cell_type": "code",
      "metadata": {
        "id": "oNcu5HM9iwTa"
      },
      "source": [
        "import pandas as pd\n",
        "wine = pd.read_csv('http://bit.ly/wine-date')\n",
        "data = wine[['alcohol','sugar','pH',]].to_numpy()\n",
        "target = wine['class'].to_numpy() # class열을 타깃으로 사용하고 나머지 열은 특성배열에 저장"
      ],
      "execution_count": 14,
      "outputs": []
    },
    {
      "cell_type": "code",
      "metadata": {
        "id": "KjR7D7kl9kun"
      },
      "source": [
        "from sklearn.model_selection import train_test_split\n",
        "train_input,test_input, train_target, test_target = train_test_split(data,target,test_size=0.2,random_state=42)\n",
        "#훈련세트의 입력 데이터와 타깃 데이터를 train_input과 train_target 배열에 저장시킴 "
      ],
      "execution_count": 15,
      "outputs": []
    },
    {
      "cell_type": "code",
      "metadata": {
        "colab": {
          "base_uri": "https://localhost:8080/"
        },
        "id": "1Ku9TEA1-Mvb",
        "outputId": "e8190f4f-9753-4924-a24c-d83849c9bd58"
      },
      "source": [
        "sub_input, val_input, sub_target, val_target = train_test_split(train_input, train_target, test_size=0.2, random_state=42)\n",
        "#train_input과 train_target을 다시 train_test_split()함수에 넣어 훈련 세트(sub_input,sub_target)와 검증 세트(var_input, var_target)를 만듬\n",
        "#여기서도 test_size 매개변수를 0.2로 지정하여 입력데이터의 약 20%를 검증세트로 만듬\n",
        "print(sub_input.shape, val_input.shape)"
      ],
      "execution_count": 16,
      "outputs": [
        {
          "output_type": "stream",
          "text": [
            "(4157, 3) (1040, 3)\n"
          ],
          "name": "stdout"
        }
      ]
    }
  ]
}