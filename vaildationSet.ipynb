{
  "nbformat": 4,
  "nbformat_minor": 0,
  "metadata": {
    "colab": {
      "name": "vaildationSet.ipynb",
      "provenance": [],
      "authorship_tag": "ABX9TyOSL1rY1mLeCdFCZNmt7Ef3",
      "include_colab_link": true
    },
    "kernelspec": {
      "name": "python3",
      "display_name": "Python 3"
    },
    "language_info": {
      "name": "python"
    }
  },
  "cells": [
    {
      "cell_type": "markdown",
      "metadata": {
        "id": "view-in-github",
        "colab_type": "text"
      },
      "source": [
        "<a href=\"https://colab.research.google.com/github/jihyoung-lee/AI-study/blob/main/vaildationSet.ipynb\" target=\"_parent\"><img src=\"https://colab.research.google.com/assets/colab-badge.svg\" alt=\"Open In Colab\"/></a>"
      ]
    },
    {
      "cell_type": "code",
      "metadata": {
        "id": "oNcu5HM9iwTa"
      },
      "source": [
        "import pandas as pd\n",
        "wine = pd.read_csv('http://bit.ly/wine-date')\n",
        "data = wine[['alcohol','sugar','pH',]].to_numpy()\n",
        "target = wine['class'].to_numpy() # class열을 타깃으로 사용하고 나머지 열은 특성배열에 저장"
      ],
      "execution_count": 2,
      "outputs": []
    },
    {
      "cell_type": "code",
      "metadata": {
        "id": "KjR7D7kl9kun"
      },
      "source": [
        "from sklearn.model_selection import train_test_split\n",
        "train_input,test_input, train_target, test_target = train_test_split(data,target,test_size=0.2,random_state=42)\n",
        "#훈련세트의 입력 데이터와 타깃 데이터를 train_input과 train_target 배열에 저장시킴 "
      ],
      "execution_count": 3,
      "outputs": []
    },
    {
      "cell_type": "code",
      "metadata": {
        "colab": {
          "base_uri": "https://localhost:8080/"
        },
        "id": "1Ku9TEA1-Mvb",
        "outputId": "1b0f9870-6a31-4038-f3b4-8adaddb09512"
      },
      "source": [
        "sub_input, val_input, sub_target, val_target = train_test_split(train_input, train_target, test_size=0.2, random_state=42)\n",
        "#train_input과 train_target을 다시 train_test_split()함수에 넣어 훈련 세트(sub_input,sub_target)와 검증 세트(var_input, var_target)를 만듬\n",
        "#여기서도 test_size 매개변수를 0.2로 지정하여 입력데이터의 약 20%를 검증세트로 만듬\n",
        "print(sub_input.shape, val_input.shape)"
      ],
      "execution_count": 4,
      "outputs": [
        {
          "output_type": "stream",
          "text": [
            "(4157, 3) (1040, 3)\n"
          ],
          "name": "stdout"
        }
      ]
    },
    {
      "cell_type": "code",
      "metadata": {
        "colab": {
          "base_uri": "https://localhost:8080/"
        },
        "id": "HDR5Np0OCZY6",
        "outputId": "e669a2bb-67a6-4c5d-f1c6-4ee20b43559e"
      },
      "source": [
        "from sklearn.tree import DecisionTreeClassifier\n",
        "dt = DecisionTreeClassifier(random_state=42)\n",
        "dt.fit(sub_input, sub_target)\n",
        "print(dt.score(sub_input, sub_target))\n",
        "print(dt.score(val_input, val_target))\n",
        "\n",
        "#모델을 만들고 평가한 결과 \n",
        "#0.9971133028626413\n",
        "#0.864423076923077"
      ],
      "execution_count": 5,
      "outputs": [
        {
          "output_type": "stream",
          "text": [
            "0.9971133028626413\n",
            "0.864423076923077\n"
          ],
          "name": "stdout"
        }
      ]
    },
    {
      "cell_type": "code",
      "metadata": {
        "colab": {
          "base_uri": "https://localhost:8080/"
        },
        "id": "KPxjezmppKEX",
        "outputId": "8350e971-cdb3-4565-a0cd-0e8f37c81691"
      },
      "source": [
        "from sklearn.model_selection import cross_validate # 교차검증함수\n",
        "scores = cross_validate(dt, train_input, train_target) # 기본적으로 5-폴드 교차 검증을 수행함\n",
        "print(scores)"
      ],
      "execution_count": 6,
      "outputs": [
        {
          "output_type": "stream",
          "text": [
            "{'fit_time': array([0.0071609 , 0.00661039, 0.00809336, 0.00680161, 0.00649118]), 'score_time': array([0.0008359 , 0.00102806, 0.00074172, 0.0006671 , 0.00066829]), 'test_score': array([0.86923077, 0.84615385, 0.87680462, 0.84889317, 0.83541867])}\n"
          ],
          "name": "stdout"
        }
      ]
    },
    {
      "cell_type": "code",
      "metadata": {
        "colab": {
          "base_uri": "https://localhost:8080/"
        },
        "id": "j0ik3xuw29Qc",
        "outputId": "749d43d3-41ca-4e8a-b5ea-b5292adf9d0d"
      },
      "source": [
        "import numpy as np\n",
        "print(np.mean(scores['test_score'])) # 교차 검증의 최종 점수는 test_score의 점수를 평균하여 얻을 수 있음"
      ],
      "execution_count": 7,
      "outputs": [
        {
          "output_type": "stream",
          "text": [
            "0.855300214703487\n"
          ],
          "name": "stdout"
        }
      ]
    },
    {
      "cell_type": "code",
      "metadata": {
        "colab": {
          "base_uri": "https://localhost:8080/"
        },
        "id": "JnDGe_dVA915",
        "outputId": "ccede949-47c1-4461-e539-7bc38c6d85a7"
      },
      "source": [
        "from sklearn.model_selection import StratifiedKFold\n",
        "scores = cross_validate(dt, train_input, train_target, cv=StratifiedKFold()) # 분류 모델일 경우 cv=StratifiedKFold()\n",
        "\n",
        "print(np.mean(scores['test_score']))"
      ],
      "execution_count": 8,
      "outputs": [
        {
          "output_type": "stream",
          "text": [
            "0.855300214703487\n"
          ],
          "name": "stdout"
        }
      ]
    },
    {
      "cell_type": "code",
      "metadata": {
        "colab": {
          "base_uri": "https://localhost:8080/"
        },
        "id": "6-hxZ-vuTr-M",
        "outputId": "8925837e-148b-4f28-88f3-4a25b817fedb"
      },
      "source": [
        "#만약 훈련 세트를 섞은 후 10-폴드 교차 검증을 수행하려면\n",
        "splitter = StratifiedKFold(n_splits=10, shuffle=True, random_state=42) #n_splits 매개변수는 몇 폴드 교차 검증을 할지 정하는 것\n",
        "print(np.mean(scores['test_score']))"
      ],
      "execution_count": 9,
      "outputs": [
        {
          "output_type": "stream",
          "text": [
            "0.855300214703487\n"
          ],
          "name": "stdout"
        }
      ]
    }
  ]
}