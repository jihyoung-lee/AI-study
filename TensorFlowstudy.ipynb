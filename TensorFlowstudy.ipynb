{
  "nbformat": 4,
  "nbformat_minor": 0,
  "metadata": {
    "colab": {
      "name": "TensorFlowstudy.ipynb",
      "provenance": [],
      "authorship_tag": "ABX9TyNFDRdqJQ0IU5Rvr8bkJL0a",
      "include_colab_link": true
    },
    "kernelspec": {
      "name": "python3",
      "display_name": "Python 3"
    },
    "language_info": {
      "name": "python"
    }
  },
  "cells": [
    {
      "cell_type": "markdown",
      "metadata": {
        "id": "view-in-github",
        "colab_type": "text"
      },
      "source": [
        "<a href=\"https://colab.research.google.com/github/jihyoung-lee/AI-study/blob/main/TensorFlowstudy.ipynb\" target=\"_parent\"><img src=\"https://colab.research.google.com/assets/colab-badge.svg\" alt=\"Open In Colab\"/></a>"
      ]
    },
    {
      "cell_type": "markdown",
      "metadata": {
        "id": "u9RR2stE6wDy"
      },
      "source": [
        "### **기초적인 Neural Network**"
      ]
    },
    {
      "cell_type": "code",
      "metadata": {
        "id": "5Ix6isCqz5rX"
      },
      "source": [
        "import tensorflow as tf\n",
        "from tensorflow import keras\n",
        "import numpy as np\n",
        "\n",
        "model = keras.Sequential([keras.layers.Dense(units=3, input_shape=[1])])"
      ],
      "execution_count": null,
      "outputs": []
    },
    {
      "cell_type": "code",
      "metadata": {
        "id": "6KoHBXQp08_m"
      },
      "source": [
        "model.compile(loss='mean_squared_error', optimizer='sgd')"
      ],
      "execution_count": null,
      "outputs": []
    },
    {
      "cell_type": "code",
      "metadata": {
        "colab": {
          "base_uri": "https://localhost:8080/"
        },
        "id": "7Nm-D40f1d0-",
        "outputId": "392bff8b-7ae3-4c6e-a3c1-30d12db075c8"
      },
      "source": [
        "xs = np.array([1,2,3,4,5], dtype=int)\n",
        "ys = np.array([0.1,0.2,0.3,0.4,0.5 ], dtype=float)\n",
        "\n",
        "model.fit(xs, ys, epochs=100)"
      ],
      "execution_count": null,
      "outputs": [
        {
          "output_type": "stream",
          "text": [
            "Epoch 1/100\n",
            "1/1 [==============================] - 0s 250ms/step - loss: 3.7616\n",
            "Epoch 2/100\n",
            "1/1 [==============================] - 0s 5ms/step - loss: 3.1923\n",
            "Epoch 3/100\n",
            "1/1 [==============================] - 0s 7ms/step - loss: 2.7092\n",
            "Epoch 4/100\n",
            "1/1 [==============================] - 0s 5ms/step - loss: 2.2993\n",
            "Epoch 5/100\n",
            "1/1 [==============================] - 0s 5ms/step - loss: 1.9515\n",
            "Epoch 6/100\n",
            "1/1 [==============================] - 0s 4ms/step - loss: 1.6564\n",
            "Epoch 7/100\n",
            "1/1 [==============================] - 0s 6ms/step - loss: 1.4060\n",
            "Epoch 8/100\n",
            "1/1 [==============================] - 0s 5ms/step - loss: 1.1936\n",
            "Epoch 9/100\n",
            "1/1 [==============================] - 0s 5ms/step - loss: 1.0133\n",
            "Epoch 10/100\n",
            "1/1 [==============================] - 0s 5ms/step - loss: 0.8604\n",
            "Epoch 11/100\n",
            "1/1 [==============================] - 0s 5ms/step - loss: 0.7306\n",
            "Epoch 12/100\n",
            "1/1 [==============================] - 0s 3ms/step - loss: 0.6205\n",
            "Epoch 13/100\n",
            "1/1 [==============================] - 0s 3ms/step - loss: 0.5271\n",
            "Epoch 14/100\n",
            "1/1 [==============================] - 0s 5ms/step - loss: 0.4478\n",
            "Epoch 15/100\n",
            "1/1 [==============================] - 0s 5ms/step - loss: 0.3806\n",
            "Epoch 16/100\n",
            "1/1 [==============================] - 0s 4ms/step - loss: 0.3235\n",
            "Epoch 17/100\n",
            "1/1 [==============================] - 0s 4ms/step - loss: 0.2751\n",
            "Epoch 18/100\n",
            "1/1 [==============================] - 0s 4ms/step - loss: 0.2340\n",
            "Epoch 19/100\n",
            "1/1 [==============================] - 0s 4ms/step - loss: 0.1991\n",
            "Epoch 20/100\n",
            "1/1 [==============================] - 0s 3ms/step - loss: 0.1695\n",
            "Epoch 21/100\n",
            "1/1 [==============================] - 0s 3ms/step - loss: 0.1444\n",
            "Epoch 22/100\n",
            "1/1 [==============================] - 0s 3ms/step - loss: 0.1231\n",
            "Epoch 23/100\n",
            "1/1 [==============================] - 0s 3ms/step - loss: 0.1051\n",
            "Epoch 24/100\n",
            "1/1 [==============================] - 0s 3ms/step - loss: 0.0897\n",
            "Epoch 25/100\n",
            "1/1 [==============================] - 0s 3ms/step - loss: 0.0767\n",
            "Epoch 26/100\n",
            "1/1 [==============================] - 0s 4ms/step - loss: 0.0657\n",
            "Epoch 27/100\n",
            "1/1 [==============================] - 0s 4ms/step - loss: 0.0563\n",
            "Epoch 28/100\n",
            "1/1 [==============================] - 0s 6ms/step - loss: 0.0484\n",
            "Epoch 29/100\n",
            "1/1 [==============================] - 0s 4ms/step - loss: 0.0416\n",
            "Epoch 30/100\n",
            "1/1 [==============================] - 0s 4ms/step - loss: 0.0359\n",
            "Epoch 31/100\n",
            "1/1 [==============================] - 0s 5ms/step - loss: 0.0310\n",
            "Epoch 32/100\n",
            "1/1 [==============================] - 0s 6ms/step - loss: 0.0269\n",
            "Epoch 33/100\n",
            "1/1 [==============================] - 0s 4ms/step - loss: 0.0234\n",
            "Epoch 34/100\n",
            "1/1 [==============================] - 0s 4ms/step - loss: 0.0204\n",
            "Epoch 35/100\n",
            "1/1 [==============================] - 0s 5ms/step - loss: 0.0179\n",
            "Epoch 36/100\n",
            "1/1 [==============================] - 0s 6ms/step - loss: 0.0158\n",
            "Epoch 37/100\n",
            "1/1 [==============================] - 0s 4ms/step - loss: 0.0139\n",
            "Epoch 38/100\n",
            "1/1 [==============================] - 0s 4ms/step - loss: 0.0124\n",
            "Epoch 39/100\n",
            "1/1 [==============================] - 0s 4ms/step - loss: 0.0111\n",
            "Epoch 40/100\n",
            "1/1 [==============================] - 0s 4ms/step - loss: 0.0100\n",
            "Epoch 41/100\n",
            "1/1 [==============================] - 0s 5ms/step - loss: 0.0090\n",
            "Epoch 42/100\n",
            "1/1 [==============================] - 0s 5ms/step - loss: 0.0082\n",
            "Epoch 43/100\n",
            "1/1 [==============================] - 0s 4ms/step - loss: 0.0075\n",
            "Epoch 44/100\n",
            "1/1 [==============================] - 0s 5ms/step - loss: 0.0069\n",
            "Epoch 45/100\n",
            "1/1 [==============================] - 0s 4ms/step - loss: 0.0065\n",
            "Epoch 46/100\n",
            "1/1 [==============================] - 0s 5ms/step - loss: 0.0060\n",
            "Epoch 47/100\n",
            "1/1 [==============================] - 0s 4ms/step - loss: 0.0057\n",
            "Epoch 48/100\n",
            "1/1 [==============================] - 0s 6ms/step - loss: 0.0054\n",
            "Epoch 49/100\n",
            "1/1 [==============================] - 0s 4ms/step - loss: 0.0051\n",
            "Epoch 50/100\n",
            "1/1 [==============================] - 0s 5ms/step - loss: 0.0049\n",
            "Epoch 51/100\n",
            "1/1 [==============================] - 0s 4ms/step - loss: 0.0047\n",
            "Epoch 52/100\n",
            "1/1 [==============================] - 0s 6ms/step - loss: 0.0045\n",
            "Epoch 53/100\n",
            "1/1 [==============================] - 0s 5ms/step - loss: 0.0044\n",
            "Epoch 54/100\n",
            "1/1 [==============================] - 0s 5ms/step - loss: 0.0043\n",
            "Epoch 55/100\n",
            "1/1 [==============================] - 0s 5ms/step - loss: 0.0042\n",
            "Epoch 56/100\n",
            "1/1 [==============================] - 0s 5ms/step - loss: 0.0041\n",
            "Epoch 57/100\n",
            "1/1 [==============================] - 0s 5ms/step - loss: 0.0040\n",
            "Epoch 58/100\n",
            "1/1 [==============================] - 0s 12ms/step - loss: 0.0039\n",
            "Epoch 59/100\n",
            "1/1 [==============================] - 0s 9ms/step - loss: 0.0039\n",
            "Epoch 60/100\n",
            "1/1 [==============================] - 0s 32ms/step - loss: 0.0038\n",
            "Epoch 61/100\n",
            "1/1 [==============================] - 0s 4ms/step - loss: 0.0038\n",
            "Epoch 62/100\n",
            "1/1 [==============================] - 0s 4ms/step - loss: 0.0038\n",
            "Epoch 63/100\n",
            "1/1 [==============================] - 0s 4ms/step - loss: 0.0037\n",
            "Epoch 64/100\n",
            "1/1 [==============================] - 0s 5ms/step - loss: 0.0037\n",
            "Epoch 65/100\n",
            "1/1 [==============================] - 0s 4ms/step - loss: 0.0037\n",
            "Epoch 66/100\n",
            "1/1 [==============================] - 0s 4ms/step - loss: 0.0036\n",
            "Epoch 67/100\n",
            "1/1 [==============================] - 0s 4ms/step - loss: 0.0036\n",
            "Epoch 68/100\n",
            "1/1 [==============================] - 0s 5ms/step - loss: 0.0036\n",
            "Epoch 69/100\n",
            "1/1 [==============================] - 0s 4ms/step - loss: 0.0036\n",
            "Epoch 70/100\n",
            "1/1 [==============================] - 0s 4ms/step - loss: 0.0036\n",
            "Epoch 71/100\n",
            "1/1 [==============================] - 0s 4ms/step - loss: 0.0036\n",
            "Epoch 72/100\n",
            "1/1 [==============================] - 0s 5ms/step - loss: 0.0035\n",
            "Epoch 73/100\n",
            "1/1 [==============================] - 0s 5ms/step - loss: 0.0035\n",
            "Epoch 74/100\n",
            "1/1 [==============================] - 0s 8ms/step - loss: 0.0035\n",
            "Epoch 75/100\n",
            "1/1 [==============================] - 0s 5ms/step - loss: 0.0035\n",
            "Epoch 76/100\n",
            "1/1 [==============================] - 0s 4ms/step - loss: 0.0035\n",
            "Epoch 77/100\n",
            "1/1 [==============================] - 0s 6ms/step - loss: 0.0035\n",
            "Epoch 78/100\n",
            "1/1 [==============================] - 0s 20ms/step - loss: 0.0035\n",
            "Epoch 79/100\n",
            "1/1 [==============================] - 0s 4ms/step - loss: 0.0035\n",
            "Epoch 80/100\n",
            "1/1 [==============================] - 0s 7ms/step - loss: 0.0035\n",
            "Epoch 81/100\n",
            "1/1 [==============================] - 0s 9ms/step - loss: 0.0034\n",
            "Epoch 82/100\n",
            "1/1 [==============================] - 0s 6ms/step - loss: 0.0034\n",
            "Epoch 83/100\n",
            "1/1 [==============================] - 0s 7ms/step - loss: 0.0034\n",
            "Epoch 84/100\n",
            "1/1 [==============================] - 0s 11ms/step - loss: 0.0034\n",
            "Epoch 85/100\n",
            "1/1 [==============================] - 0s 6ms/step - loss: 0.0034\n",
            "Epoch 86/100\n",
            "1/1 [==============================] - 0s 5ms/step - loss: 0.0034\n",
            "Epoch 87/100\n",
            "1/1 [==============================] - 0s 4ms/step - loss: 0.0034\n",
            "Epoch 88/100\n",
            "1/1 [==============================] - 0s 4ms/step - loss: 0.0034\n",
            "Epoch 89/100\n",
            "1/1 [==============================] - 0s 5ms/step - loss: 0.0034\n",
            "Epoch 90/100\n",
            "1/1 [==============================] - 0s 5ms/step - loss: 0.0034\n",
            "Epoch 91/100\n",
            "1/1 [==============================] - 0s 5ms/step - loss: 0.0034\n",
            "Epoch 92/100\n",
            "1/1 [==============================] - 0s 6ms/step - loss: 0.0034\n",
            "Epoch 93/100\n",
            "1/1 [==============================] - 0s 6ms/step - loss: 0.0033\n",
            "Epoch 94/100\n",
            "1/1 [==============================] - 0s 5ms/step - loss: 0.0033\n",
            "Epoch 95/100\n",
            "1/1 [==============================] - 0s 5ms/step - loss: 0.0033\n",
            "Epoch 96/100\n",
            "1/1 [==============================] - 0s 5ms/step - loss: 0.0033\n",
            "Epoch 97/100\n",
            "1/1 [==============================] - 0s 5ms/step - loss: 0.0033\n",
            "Epoch 98/100\n",
            "1/1 [==============================] - 0s 5ms/step - loss: 0.0033\n",
            "Epoch 99/100\n",
            "1/1 [==============================] - 0s 5ms/step - loss: 0.0033\n",
            "Epoch 100/100\n",
            "1/1 [==============================] - 0s 4ms/step - loss: 0.0033\n"
          ],
          "name": "stdout"
        },
        {
          "output_type": "execute_result",
          "data": {
            "text/plain": [
              "<tensorflow.python.keras.callbacks.History at 0x7f1122b17510>"
            ]
          },
          "metadata": {
            "tags": []
          },
          "execution_count": 25
        }
      ]
    },
    {
      "cell_type": "code",
      "metadata": {
        "colab": {
          "base_uri": "https://localhost:8080/",
          "height": 195
        },
        "id": "SH0jEg0_3WYd",
        "outputId": "77322cfd-32e2-4584-dc61-86eb9092c601"
      },
      "source": [
        "pred = model.predict([6])\n",
        "print(pred)"
      ],
      "execution_count": null,
      "outputs": [
        {
          "output_type": "error",
          "ename": "NameError",
          "evalue": "ignored",
          "traceback": [
            "\u001b[0;31m---------------------------------------------------------------------------\u001b[0m",
            "\u001b[0;31mNameError\u001b[0m                                 Traceback (most recent call last)",
            "\u001b[0;32m<ipython-input-1-51ef3c2427e9>\u001b[0m in \u001b[0;36m<module>\u001b[0;34m()\u001b[0m\n\u001b[0;32m----> 1\u001b[0;31m \u001b[0mpred\u001b[0m \u001b[0;34m=\u001b[0m \u001b[0mmodel\u001b[0m\u001b[0;34m.\u001b[0m\u001b[0mpredict\u001b[0m\u001b[0;34m(\u001b[0m\u001b[0;34m[\u001b[0m\u001b[0;36m6\u001b[0m\u001b[0;34m]\u001b[0m\u001b[0;34m)\u001b[0m\u001b[0;34m\u001b[0m\u001b[0;34m\u001b[0m\u001b[0m\n\u001b[0m\u001b[1;32m      2\u001b[0m \u001b[0mprint\u001b[0m\u001b[0;34m(\u001b[0m\u001b[0mpred\u001b[0m\u001b[0;34m)\u001b[0m\u001b[0;34m\u001b[0m\u001b[0;34m\u001b[0m\u001b[0m\n",
            "\u001b[0;31mNameError\u001b[0m: name 'model' is not defined"
          ]
        }
      ]
    },
    {
      "cell_type": "markdown",
      "metadata": {
        "id": "3Kon3pU-7VVv"
      },
      "source": [
        "### **손실함수**"
      ]
    },
    {
      "cell_type": "code",
      "metadata": {
        "id": "LjVWD-9F7ddk"
      },
      "source": [
        "import tensorflow as tf\n",
        "from tensorflow import keras\n",
        "import numpy as np\n",
        "\n",
        "model = keras.Sequential([keras.layers.Dense(units=3, input_shape=[1])])"
      ],
      "execution_count": null,
      "outputs": []
    },
    {
      "cell_type": "code",
      "metadata": {
        "id": "DDooC3Pu74h8"
      },
      "source": [
        "model.compile(loss='mse')"
      ],
      "execution_count": null,
      "outputs": []
    },
    {
      "cell_type": "code",
      "metadata": {
        "colab": {
          "base_uri": "https://localhost:8080/"
        },
        "id": "hQ2WJnMv78hj",
        "outputId": "489d3dd9-55c6-4a13-aef3-4be8834b5645"
      },
      "source": [
        "pred = model.predict([0])\n",
        "print(pred)"
      ],
      "execution_count": null,
      "outputs": [
        {
          "output_type": "stream",
          "text": [
            "[[0. 0. 0.]]\n"
          ],
          "name": "stdout"
        }
      ]
    },
    {
      "cell_type": "code",
      "metadata": {
        "colab": {
          "base_uri": "https://localhost:8080/"
        },
        "id": "586scu5I9RzE",
        "outputId": "f5fd7874-8636-4009-d275-03c2d5a8b460"
      },
      "source": [
        "model.evaluate([0],[[0, 1, 0]])"
      ],
      "execution_count": null,
      "outputs": [
        {
          "output_type": "stream",
          "text": [
            "1/1 [==============================] - 0s 132ms/step - loss: 0.3333\n"
          ],
          "name": "stdout"
        },
        {
          "output_type": "execute_result",
          "data": {
            "text/plain": [
              "0.3333333432674408"
            ]
          },
          "metadata": {
            "tags": []
          },
          "execution_count": 22
        }
      ]
    },
    {
      "cell_type": "markdown",
      "metadata": {
        "id": "cM9tKWsaPTkl"
      },
      "source": [
        "### **MNIST 손글씨 **"
      ]
    },
    {
      "cell_type": "code",
      "metadata": {
        "colab": {
          "base_uri": "https://localhost:8080/"
        },
        "id": "LYjCVTEOPb6I",
        "outputId": "ed71cdb6-bfe4-41c1-e1b2-4cccfac6d1e1"
      },
      "source": [
        "import tensorflow as tf\n",
        "\n",
        "# 데이터셋 임포트\n",
        "mnist = tf.keras.datasets.mnist\n",
        "(x_train, y_train), (x_test, y_test) = mnist.load_data()\n",
        "\n",
        "# 0~255.0 사이의 값을 갖는 픽셀값들을 0~1.0 사이의 값을 갖도록 변환\n",
        "x_train, x_test = x_train/255.0, x_test/255.0"
      ],
      "execution_count": null,
      "outputs": [
        {
          "output_type": "stream",
          "text": [
            "Downloading data from https://storage.googleapis.com/tensorflow/tf-keras-datasets/mnist.npz\n",
            "11493376/11490434 [==============================] - 0s 0us/step\n"
          ],
          "name": "stdout"
        }
      ]
    },
    {
      "cell_type": "code",
      "metadata": {
        "id": "z3-R09DNQxgv"
      },
      "source": [
        "model = tf.keras.models.Sequential([\n",
        "tf.keras.layers.Flatten(input_shape=(28,28)),\n",
        "tf.keras.layers.Dense(512, activation=tf.nn.relu),\n",
        "tf.keras.layers.Dense(10, activation=tf.nn.softmax)\n",
        "])"
      ],
      "execution_count": null,
      "outputs": []
    },
    {
      "cell_type": "code",
      "metadata": {
        "id": "BDMd1oXfVxJH"
      },
      "source": [
        "model.compile(optimizer='adam',\n",
        "              loss='sparse_categorical_crossentropy',\n",
        "              metrics=['accuracy'])"
      ],
      "execution_count": null,
      "outputs": []
    },
    {
      "cell_type": "code",
      "metadata": {
        "colab": {
          "base_uri": "https://localhost:8080/"
        },
        "id": "s4PF1BQpWSTb",
        "outputId": "a0fde0b8-0db9-42cf-ad79-dd0493bd2d5b"
      },
      "source": [
        "model.fit(x_train, y_train, epochs=5)"
      ],
      "execution_count": null,
      "outputs": [
        {
          "output_type": "stream",
          "text": [
            "Epoch 1/5\n",
            "1875/1875 [==============================] - 8s 4ms/step - loss: 0.1984 - accuracy: 0.9417\n",
            "Epoch 2/5\n",
            "1875/1875 [==============================] - 8s 4ms/step - loss: 0.0794 - accuracy: 0.9764\n",
            "Epoch 3/5\n",
            "1875/1875 [==============================] - 8s 4ms/step - loss: 0.0524 - accuracy: 0.9837\n",
            "Epoch 4/5\n",
            "1875/1875 [==============================] - 8s 4ms/step - loss: 0.0388 - accuracy: 0.9875\n",
            "Epoch 5/5\n",
            "1875/1875 [==============================] - 8s 4ms/step - loss: 0.0275 - accuracy: 0.9913\n"
          ],
          "name": "stdout"
        },
        {
          "output_type": "execute_result",
          "data": {
            "text/plain": [
              "<tensorflow.python.keras.callbacks.History at 0x7fc4e5a2f250>"
            ]
          },
          "metadata": {
            "tags": []
          },
          "execution_count": 5
        }
      ]
    },
    {
      "cell_type": "code",
      "metadata": {
        "colab": {
          "base_uri": "https://localhost:8080/"
        },
        "id": "J0J5FRJjYdwy",
        "outputId": "52b4cec1-726d-4974-a473-d3f982604268"
      },
      "source": [
        "test_loss, test_acc = model.evaluate(x_test,y_test)\n",
        "print('정확도:', test_acc)"
      ],
      "execution_count": null,
      "outputs": [
        {
          "output_type": "stream",
          "text": [
            "313/313 [==============================] - 1s 2ms/step - loss: 0.0807 - accuracy: 0.9769\n",
            "정확도: 0.9768999814987183\n"
          ],
          "name": "stdout"
        }
      ]
    }
  ]
}